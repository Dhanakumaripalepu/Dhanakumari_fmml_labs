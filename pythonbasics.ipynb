{
  "nbformat": 4,
  "nbformat_minor": 0,
  "metadata": {
    "colab": {
      "provenance": [],
      "include_colab_link": true
    },
    "kernelspec": {
      "name": "python3",
      "display_name": "Python 3"
    },
    "language_info": {
      "name": "python"
    }
  },
  "cells": [
    {
      "cell_type": "markdown",
      "metadata": {
        "id": "view-in-github",
        "colab_type": "text"
      },
      "source": [
        "<a href=\"https://colab.research.google.com/github/Dhanakumaripalepu/Dhanakumari_fmml_labs/blob/main/pythonbasics.ipynb\" target=\"_parent\"><img src=\"https://colab.research.google.com/assets/colab-badge.svg\" alt=\"Open In Colab\"/></a>"
      ]
    },
    {
      "cell_type": "markdown",
      "source": [
        "# Introduction to **Python**\n",
        "\n"
      ],
      "metadata": {
        "id": "XQIp4kUNtlqT"
      }
    },
    {
      "cell_type": "markdown",
      "source": [
        "## What is Python?\n",
        "Python is a high-level, interpreted programming language known for its simplicity and readability. It was created by Guido van Rossum and first released in 1991. Python's design philosophy emphasizes code readability and simplicity, making it a popular choice for beginners and experienced developers alike."
      ],
      "metadata": {
        "id": "8kTO0L9Zu1X-"
      }
    },
    {
      "cell_type": "markdown",
      "source": [
        "## Key Features of Python\n",
        "- **Easy to Learn and Use**: Python's syntax is straightforward, making it an excellent choice for beginners.\n",
        "- **Interpreted Language**: Python code is executed line by line, which makes debugging easier.\n",
        "- **Dynamically Typed**: You don't need to declare the type of variable when you write code. The interpreter infers the type at runtime.\n",
        "- **Extensive Standard Library**: Python has a rich set of libraries and frameworks that support various applications.\n",
        "- **Cross-Platform**: Python runs on various platforms, including Windows, macOS, and Linux.\n",
        "- **Community Support**: Python has a large and active community that contributes to its development and provides support through forums and tutorials."
      ],
      "metadata": {
        "id": "i1ohc0BQvQiy"
      }
    },
    {
      "cell_type": "markdown",
      "source": [
        "# What are Variables?\n",
        "## Variables are containers for storing data values. In Python, you don’t need to declare a variable with a specific data type.\n",
        "\n"
      ],
      "metadata": {
        "id": "5TIYLg40wrIk"
      }
    },
    {
      "cell_type": "code",
      "source": [
        "x = 5\n",
        "name = \"Alice\"\n",
        "is_active = True\n",
        "# print(x) #Reassigning Variables\n",
        "# x = 10\n",
        "# print(x)"
      ],
      "metadata": {
        "id": "hk4hUifDybD7"
      },
      "execution_count": 1,
      "outputs": []
    },
    {
      "cell_type": "markdown",
      "source": [
        "# IDENTIFIERS\n",
        "\n",
        "## Rules for Identifiers in Python\n",
        "- Must Begin with a Letter or an Underscore (_):\n",
        "\n",
        "  An identifier can start with a letter (a-z, A-Z) or an underscore (_).\n",
        "Examples: variable, _variable, Variable\n",
        "- Followed by Letters, Digits, or Underscores:\n",
        "\n",
        "  After the initial character, the identifier can contain letters, digits (0-9), or underscores.\n",
        "Examples: var1, my_variable, var_2\n",
        "- Case-Sensitive:\n",
        "\n",
        "  Identifiers are case-sensitive, which means variable, Variable, and VARIABLE are different identifiers.\n",
        "Examples: myVar, MyVar, myvar\n",
        "\n",
        "- Cannot Be a Keyword:\n",
        "\n",
        "  Identifiers cannot be the same as Python keywords. Keywords are reserved words in Python that have special meanings.\n",
        "Examples of keywords: if, else, while, for, break, class, try, except, etc.\n",
        "\n",
        "- No Special Characters Other Than Underscores:\n",
        "\n",
        "  Identifiers cannot contain special characters like !, @, #, $, %, ^, &, *, -, +, etc.\n",
        "\n",
        "  Invalid examples: my-var, var@name, name!"
      ],
      "metadata": {
        "id": "j96tC5TDxb9B"
      }
    },
    {
      "cell_type": "markdown",
      "source": [
        "# KEY WORDS"
      ],
      "metadata": {
        "id": "DiqUm6VU7Pny"
      }
    },
    {
      "cell_type": "markdown",
      "source": [
        "## **False**: Boolean value indicating false.\n",
        "## **None**: Represents the absence of a value.\n",
        "## **True:** Boolean value indicating true.\n",
        "## **and:** Logical operator that returns true if both operands are true.\n",
        "## **as:** Used to create an alias while importing a module.\n",
        "## **assert:** Used for debugging purposes to check if a condition is true.\n",
        "## **async:** Declares an asynchronous function.\n",
        "## **await:** Waits for the result of an async function.\n",
        "## **break:** Terminates the nearest enclosing loop.\n",
        "## **class:** Defines a new class.\n",
        "## **continue:** Skips the rest of the code inside a loop for the current iteration only.\n",
        "## **def:** Defines a new function.\n",
        "## **del:** Deletes an object.\n",
        "## **elif:** Else if condition, used in conditional statements.\n",
        "## **else:** Used in conditional statements to provide an alternative block of code if the condition is false.\n",
        "## **except:** Catches exceptions in a try block.\n",
        "## **finally:** Executes code after try and except blocks, regardless of whether an exception was raised or not.\n",
        "## **for**: Used to create a for loop.\n",
        "## **from**: Imports specific parts of a module.\n",
        "## **global**: Declares a global variable.\n",
        "## **if**: Used to create a conditional statement.\n",
        "## **import**: Imports a module.\n",
        "## in: Checks if a value is present in a sequence (like a list, tuple, string, etc.).\n",
        "## **is**: Tests object identity.\n",
        "## **lambda**: Creates an anonymous function.\n",
        "## **nonlocal**: Declares a non-local variable.\n",
        "## **not**: Logical operator that returns true if the operand is false.\n",
        "## **or**: Logical operator that returns true if at least one operand is true.\n",
        "## **pass**: Does nothing, can be used as a placeholder.\n",
        "## raise: Raises an exception.\n",
        "## **return**: Exits a function and returns a value.\n",
        "## **try**: Specifies a block of code to test for errors.\n",
        "## **while**: Creates a while loop.\n",
        "## **with**: Simplifies exception handling by encapsulating common preparation and cleanup tasks.\n",
        "## **yield**: Used inside a function like a return statement, but returns a generator."
      ],
      "metadata": {
        "id": "NU3-bHRM7aqn"
      }
    },
    {
      "cell_type": "markdown",
      "source": [
        "# COMMENTS\n",
        "\n",
        " Comments in Python are used to explain the code, make it more readable, and prevent execution of code. They are ignored by the Python interpreter, meaning they do not affect the execution of the program. There are two types of comments in Python: single-line comments and multi-line comments.Using Comments for Documentation\n",
        " Comments can also be used to provide documentation within your code, helping others understand what the code does, why certain decisions were made, or to mark sections of the code.\n",
        "\n",
        "- **Single-Line Comments**:\n",
        "\n",
        "Single-line comments start with a hash character (#) and extend to the end of the line. They are typically used for brief explanations or notes about the code.\n",
        "\n"
      ],
      "metadata": {
        "id": "E28-_OKlzYVL"
      }
    },
    {
      "cell_type": "code",
      "source": [
        "# This is a single-line comment\n",
        "print(\"Hello, World!\")  # This is an inline comment\n"
      ],
      "metadata": {
        "id": "CTsZtDjDzzZs",
        "colab": {
          "base_uri": "https://localhost:8080/"
        },
        "outputId": "d919d17b-db08-4901-ac62-150456e36d22"
      },
      "execution_count": 2,
      "outputs": [
        {
          "output_type": "stream",
          "name": "stdout",
          "text": [
            "Hello, World!\n"
          ]
        }
      ]
    },
    {
      "cell_type": "markdown",
      "source": [
        "- **Multi-Line Comments**:\n",
        "\n",
        "Python does not have a specific syntax for multi-line comments like some other programming languages (e.g., /* ... */ in C/C++). Instead, multi-line comments are created by using multiple single-line comments or triple-quoted strings (which can also be used as docstrings, although docstrings are usually used to document functions, classes, and modules)."
      ],
      "metadata": {
        "id": "4E72vYQiz4PV"
      }
    },
    {
      "cell_type": "code",
      "source": [
        "# This is a multi-line comment\n",
        "# written using multiple\n",
        "# single-line comments\n",
        "print(\"Hello, World!\")\n"
      ],
      "metadata": {
        "id": "64HyE4FZ0KyX",
        "colab": {
          "base_uri": "https://localhost:8080/"
        },
        "outputId": "349e5cb4-3955-4a54-dbd8-278c267d849b"
      },
      "execution_count": 3,
      "outputs": [
        {
          "output_type": "stream",
          "name": "stdout",
          "text": [
            "Hello, World!\n"
          ]
        }
      ]
    },
    {
      "cell_type": "markdown",
      "source": [
        "- **Using Triple-Quoted Strings**:\n",
        "\n",
        "Triple-quoted strings (either ''' ... ''' or \"\"\" ... \"\"\") can be used to create multi-line comments. However, their primary use is for docstrings to document functions, classes, and modules."
      ],
      "metadata": {
        "id": "-ZHPt2KM0L-6"
      }
    },
    {
      "cell_type": "code",
      "source": [
        "\"\"\"\n",
        "This is a multi-line comment.\n",
        "It spans multiple lines.\n",
        "Using triple-quoted strings.\n",
        "\"\"\"\n",
        "print(\"Hello, World!\")\n"
      ],
      "metadata": {
        "id": "GIVLdJme0W6-",
        "colab": {
          "base_uri": "https://localhost:8080/"
        },
        "outputId": "129a46e0-7697-474b-96fb-8cc3f6ecfef0"
      },
      "execution_count": 4,
      "outputs": [
        {
          "output_type": "stream",
          "name": "stdout",
          "text": [
            "Hello, World!\n"
          ]
        }
      ]
    },
    {
      "cell_type": "markdown",
      "source": [
        "# Python Data Types\n",
        "- NUMERICAL\n",
        "- SEQUENCE\n",
        "- MAPPING\n",
        "- SET\n",
        "- BOOLEAN\n",
        "-BINARY\n",
        "-TEXT\n",
        "\n",
        "\n",
        "## NUMERICAL:\n",
        "### INTEGER\n",
        " Python has three main numerical data types: Integer, Float, and Complex.\n",
        "\n"
      ],
      "metadata": {
        "id": "ilSVaL1l11Ph"
      }
    },
    {
      "cell_type": "code",
      "source": [
        "age = 25\n",
        "temperature = -5\n",
        "count = 0\n",
        "print(age, temperature, count)  # Output: 25 -5 0\n",
        "print(type(age))\n"
      ],
      "metadata": {
        "colab": {
          "base_uri": "https://localhost:8080/"
        },
        "id": "sLrl9vGg2t7I",
        "outputId": "352e640e-cfa8-4fbc-9068-554f033c6fcc"
      },
      "execution_count": 5,
      "outputs": [
        {
          "output_type": "stream",
          "name": "stdout",
          "text": [
            "25 -5 0\n",
            "<class 'int'>\n"
          ]
        }
      ]
    },
    {
      "cell_type": "markdown",
      "source": [
        "### FLOAT\n",
        "A float is a number that includes a decimal point. It represents real numbers and is used for precise calculations."
      ],
      "metadata": {
        "id": "BlUIyWPz2vbD"
      }
    },
    {
      "cell_type": "code",
      "source": [
        "height = 5.9\n",
        "pi = 3.14159\n",
        "weight = 70.5\n",
        "print(height, pi, weight)  # Output: 5.9 3.14159 70.5\n"
      ],
      "metadata": {
        "colab": {
          "base_uri": "https://localhost:8080/"
        },
        "id": "L7ZfVatR3j-u",
        "outputId": "d1311082-2906-4e3b-b3fb-0eb00fcf471f"
      },
      "execution_count": 6,
      "outputs": [
        {
          "output_type": "stream",
          "name": "stdout",
          "text": [
            "5.9 3.14159 70.5\n"
          ]
        }
      ]
    },
    {
      "cell_type": "markdown",
      "source": [
        "### Complex\n",
        "A complex number consists of a real part and an imaginary part, represented as a + bj, where a is the real part and b is the imaginary part."
      ],
      "metadata": {
        "id": "aMNNmcC53mkJ"
      }
    },
    {
      "cell_type": "code",
      "source": [
        "complex_number1 = 2 + 3j\n",
        "complex_number2 = 1 - 4j\n",
        "print(complex_number1, complex_number2)  # Output: (2+3j) (1-4j)\n"
      ],
      "metadata": {
        "colab": {
          "base_uri": "https://localhost:8080/"
        },
        "id": "Ut3dpzQY3wRD",
        "outputId": "a1b2a181-5b7e-4cf2-feec-491b5246f4d8"
      },
      "execution_count": 7,
      "outputs": [
        {
          "output_type": "stream",
          "name": "stdout",
          "text": [
            "(2+3j) (1-4j)\n"
          ]
        }
      ]
    },
    {
      "cell_type": "markdown",
      "source": [
        "## MAPPING:\n",
        "In Python, the primary mapping data type is the dictionary. A dictionary is an unordered collection of key-value pairs. Each key-value pair maps the key to its associated value. Keys in a dictionary must be unique and immutable (e.g., strings, numbers, tuples), whereas values can be of any type and can be duplicated.\n",
        "### Dictionary\n",
        "Creating a Dictionary\n",
        "You can create a dictionary using curly braces {} or the dict() function.\n",
        "\n",
        "\n",
        "Some useful dictionary methods include:\n",
        "- keys(): Returns a view object containing the keys of the dictionary.\n",
        "- values(): Returns a view object containing the values of the dictionary.\n",
        "- items(): Returns a view object containing the key-value pairs of the dictionary."
      ],
      "metadata": {
        "id": "FM_lNDJi36Gh"
      }
    },
    {
      "cell_type": "code",
      "source": [
        "# Using curly braces\n",
        "person = {\n",
        "    \"name\": \"Alice\",\n",
        "    \"age\": 30,\n",
        "    \"city\": \"New York\"\n",
        "}\n",
        "\n",
        "# Using the dict() function\n",
        "person = dict(name=\"Alice\", age=30, city=\"New York\")\n"
      ],
      "metadata": {
        "id": "Fjh1xEIN4NH7"
      },
      "execution_count": 8,
      "outputs": []
    },
    {
      "cell_type": "markdown",
      "source": [
        "# SEQUENCE\n",
        "In Python, sequence data types are used to store collections of items in a specific order. The main sequence data types in Python are:\n",
        "\n",
        "- List\n",
        "- Tuple\n",
        "- Range\n",
        "\n",
        "##1. List\n",
        "\n",
        "  A list is an ordered, mutable collection of items. Lists can contain items of different data types.\n"
      ],
      "metadata": {
        "id": "pBJliaVc4X_M"
      }
    },
    {
      "cell_type": "code",
      "source": [
        "fruits = [\"apple\", \"banana\", \"cherry\"]\n",
        "numbers = [1, 2, 3, 4, 5]\n",
        "mixed = [1, \"hello\", 3.14, True]\n"
      ],
      "metadata": {
        "id": "w74WEveZ5O1t"
      },
      "execution_count": 9,
      "outputs": []
    },
    {
      "cell_type": "markdown",
      "source": [
        "## 2. Tuple\n",
        "\n",
        "  A tuple is an ordered, immutable collection of items. Once a tuple is created, you cannot change its values."
      ],
      "metadata": {
        "id": "wWEXKfMI5QKm"
      }
    },
    {
      "cell_type": "code",
      "source": [
        "colors = (\"red\", \"green\", \"blue\")\n",
        "coordinates = (10.0, 20.0)\n"
      ],
      "metadata": {
        "id": "gLt-_nrC5gUW"
      },
      "execution_count": 10,
      "outputs": []
    },
    {
      "cell_type": "markdown",
      "source": [
        "## 3. Range:\n",
        "\n",
        "  A range represents an immutable sequence of numbers and is often used for looping a specific number of times in for loops."
      ],
      "metadata": {
        "id": "6k6lZboD5mY1"
      }
    },
    {
      "cell_type": "code",
      "source": [
        "for i in range(5):\n",
        "    print(i)  # Output: 0 1 2 3 4\n"
      ],
      "metadata": {
        "id": "vx2vkh0E5yg9",
        "colab": {
          "base_uri": "https://localhost:8080/"
        },
        "outputId": "4fe6d3c5-2bc1-429d-8c85-32a183723995"
      },
      "execution_count": 11,
      "outputs": [
        {
          "output_type": "stream",
          "name": "stdout",
          "text": [
            "0\n",
            "1\n",
            "2\n",
            "3\n",
            "4\n"
          ]
        }
      ]
    },
    {
      "cell_type": "markdown",
      "source": [
        "List: Mutable, ordered collection of items.\n",
        "\n",
        "\n",
        "Tuple: Immutable, ordered collection of items.\n",
        "\n",
        "\n",
        "Range: Immutable sequence of numbers, often used in loops.\n",
        "\n",
        "\n",
        "String: Immutable sequence of characters, used to store text."
      ],
      "metadata": {
        "id": "N_-ZQ3Hi56yS"
      }
    },
    {
      "cell_type": "markdown",
      "source": [
        "## BOOLEAN\n",
        "In Python, the Boolean data type is used to represent one of two values: True or False. Booleans are commonly used in conditional statements and control flow to determine the truthiness of an expression or variable."
      ],
      "metadata": {
        "id": "txZOw4HQ6JXc"
      }
    },
    {
      "cell_type": "code",
      "source": [
        "is_sunny = True\n",
        "is_raining = False\n",
        "print(is_sunny)  # Output: True\n",
        "print(is_raining)  # Output: False\n"
      ],
      "metadata": {
        "id": "r_nRewH3-HMt",
        "colab": {
          "base_uri": "https://localhost:8080/"
        },
        "outputId": "97e15025-53b5-465c-b2f2-e5e138adec2b"
      },
      "execution_count": 12,
      "outputs": [
        {
          "output_type": "stream",
          "name": "stdout",
          "text": [
            "True\n",
            "False\n"
          ]
        }
      ]
    },
    {
      "cell_type": "markdown",
      "source": [
        "# BINARY\n",
        "In Python, binary data types are used to handle binary data, which is typically non-textual and consists of bytes. The main binary data types in Python are:\n",
        "\n",
        "- bytes\n",
        "- bytearray\n",
        "- memoryview"
      ],
      "metadata": {
        "id": "EzkbccPq-eWM"
      }
    },
    {
      "cell_type": "code",
      "source": [
        "b = b'Hello, World!'\n",
        "print(b[0])    # Output: 72 (ASCII value of 'H')\n",
        "print(b[1:5])  # Output: b'ello'\n"
      ],
      "metadata": {
        "id": "Zurp11n5-_cQ",
        "colab": {
          "base_uri": "https://localhost:8080/"
        },
        "outputId": "3d05a8b4-5da1-4c94-93b0-9ff2554e1a88"
      },
      "execution_count": 13,
      "outputs": [
        {
          "output_type": "stream",
          "name": "stdout",
          "text": [
            "72\n",
            "b'ello'\n"
          ]
        }
      ]
    },
    {
      "cell_type": "markdown",
      "source": [
        "# SET\n",
        "In Python, sets are unordered collections of unique elements.\n",
        "\n",
        "There are two main set types:\n",
        "- set\n",
        "- frozenset.\n",
        "\n",
        "## 1. set\n",
        "A set is a mutable, unordered collection of unique elements. Sets are useful for membership testing, removing duplicates from a sequence, and mathematical operations like union, intersection, difference, and symmetric difference."
      ],
      "metadata": {
        "id": "_QFbxWBH_FEm"
      }
    },
    {
      "cell_type": "code",
      "source": [
        "# Using curly braces\n",
        "fruits = {\"apple\", \"banana\", \"cherry\"}\n",
        "print(fruits)  # Output: {'apple', 'banana', 'cherry'}\n",
        "\n",
        "# Using the set() constructor\n",
        "numbers = set([1, 2, 3, 4, 4, 2])\n",
        "print(numbers)  # Output: {1, 2, 3, 4}\n"
      ],
      "metadata": {
        "id": "L2AVcavl_aVt",
        "colab": {
          "base_uri": "https://localhost:8080/"
        },
        "outputId": "f8995247-582a-4983-c1a1-a331c5d764e5"
      },
      "execution_count": 14,
      "outputs": [
        {
          "output_type": "stream",
          "name": "stdout",
          "text": [
            "{'cherry', 'banana', 'apple'}\n",
            "{1, 2, 3, 4}\n"
          ]
        }
      ]
    },
    {
      "cell_type": "markdown",
      "source": [
        "##2. frozenset\n",
        "  \n",
        "  \n",
        "  A frozenset is an immutable version of a set. Once created, elements cannot be added or removed from a frozenset. It is useful when you need a set that should not change."
      ],
      "metadata": {
        "id": "CdKbPrxF_egq"
      }
    },
    {
      "cell_type": "code",
      "source": [
        "# Using frozenset() constructor\n",
        "immutable_fruits = frozenset([\"apple\", \"banana\", \"cherry\"])\n",
        "print(immutable_fruits)  # Output: frozenset({'apple', 'banana', 'cherry'})\n"
      ],
      "metadata": {
        "id": "KpcaoQRW_6-s",
        "colab": {
          "base_uri": "https://localhost:8080/"
        },
        "outputId": "04fd84ad-20e2-4da0-f863-f6898ac5ea02"
      },
      "execution_count": 15,
      "outputs": [
        {
          "output_type": "stream",
          "name": "stdout",
          "text": [
            "frozenset({'cherry', 'banana', 'apple'})\n"
          ]
        }
      ]
    },
    {
      "cell_type": "markdown",
      "source": [
        "# OPERATORS\n",
        "Python has a variety of operators that are used to perform operations on variables and values\n",
        "\n",
        "- Arithmetic\n",
        "- Assignment\n",
        "- Comparison\n",
        "- Logic\n",
        "- Identity\n",
        "- Membership\n",
        "- Bitwise"
      ],
      "metadata": {
        "id": "bucngWGsAKnv"
      }
    },
    {
      "cell_type": "markdown",
      "source": [
        "##1. Arithmetic Operators:\n",
        "These operators are used to perform mathematical operations.\n",
        "\n",
        "Addition\n",
        "\n",
        "\n",
        "Subtraction\n",
        "\n",
        "\n",
        "Multiplication\n",
        "\n",
        "\n",
        "Division\n",
        "\n",
        "\n",
        "Modulus\n",
        "\n",
        "Exponentiation\n",
        "\n",
        "Floor Division"
      ],
      "metadata": {
        "id": "rY1aw7cBAr-y"
      }
    },
    {
      "cell_type": "code",
      "source": [
        "a = 10\n",
        "b = 3\n",
        "\n",
        "print(a + b)   # Output: 13\n",
        "print(a - b)   # Output: 7\n",
        "print(a * b)   # Output: 30\n",
        "print(a / b)   # Output: 3.3333333333333335\n",
        "print(a % b)   # Output: 1\n",
        "print(a ** b)  # Output: 1000\n",
        "print(a // b)  # Output: 3\n"
      ],
      "metadata": {
        "id": "vAfIxNnrBPB5",
        "colab": {
          "base_uri": "https://localhost:8080/"
        },
        "outputId": "2014e80b-3bcb-4641-a6f4-12fa487abb92"
      },
      "execution_count": 16,
      "outputs": [
        {
          "output_type": "stream",
          "name": "stdout",
          "text": [
            "13\n",
            "7\n",
            "30\n",
            "3.3333333333333335\n",
            "1\n",
            "1000\n",
            "3\n"
          ]
        }
      ]
    },
    {
      "cell_type": "markdown",
      "source": [
        "## 2. Comparison Operators:\n",
        "These operators are used to compare two values and return a Boolean result.\n",
        "\n",
        "== : Equal to\n",
        "\n",
        "\n",
        "!= : Not equal to\n",
        "\n",
        "\n",
        "(> ): Greater than\n",
        "\n",
        "\n",
        "< : Less than\n",
        "\n",
        "\n",
        "(>=): Greater than or equal to\n",
        "\n",
        "\n",
        "<= : Less than or equal to"
      ],
      "metadata": {
        "id": "Okd76qSBBS7J"
      }
    },
    {
      "cell_type": "code",
      "source": [
        "a = 10\n",
        "b = 3\n",
        "\n",
        "print(a == b)  # Output: False\n",
        "print(a != b)  # Output: True\n",
        "print(a > b)   # Output: True\n",
        "print(a < b)   # Output: False\n",
        "print(a >= b)  # Output: True\n",
        "print(a <= b)  # Output: False\n"
      ],
      "metadata": {
        "id": "GAlbRBO_BnOp",
        "colab": {
          "base_uri": "https://localhost:8080/"
        },
        "outputId": "065d295a-44fa-4762-e537-bbca6ad14841"
      },
      "execution_count": 17,
      "outputs": [
        {
          "output_type": "stream",
          "name": "stdout",
          "text": [
            "False\n",
            "True\n",
            "True\n",
            "False\n",
            "True\n",
            "False\n"
          ]
        }
      ]
    },
    {
      "cell_type": "markdown",
      "source": [
        " ##3. Logical Operators:\n",
        "These operators are used to perform logical operations and return a Boolean result.\n",
        "\n",
        "and : Returns True if both statements are true\n",
        "\n",
        "\n",
        "or : Returns True if one of the statements is true\n",
        "\n",
        "\n",
        "not : Reverses the result, returns False if the result is true"
      ],
      "metadata": {
        "id": "m7oqLrVrBtTO"
      }
    },
    {
      "cell_type": "code",
      "source": [
        "x = True\n",
        "y = False\n",
        "\n",
        "print(x and y)  # Output: False\n",
        "print(x or y)   # Output: True\n",
        "print(not x)    # Output: False\n"
      ],
      "metadata": {
        "id": "9lQyiv4oBshd",
        "colab": {
          "base_uri": "https://localhost:8080/"
        },
        "outputId": "58da0713-6e98-4424-de1d-34aa1e44aac2"
      },
      "execution_count": 18,
      "outputs": [
        {
          "output_type": "stream",
          "name": "stdout",
          "text": [
            "False\n",
            "True\n",
            "False\n"
          ]
        }
      ]
    },
    {
      "cell_type": "markdown",
      "source": [
        "## 4. Bitwise Operators:\n",
        "These operators are used to perform bit-level operations on integers.\n",
        "\n",
        "& : AND\n",
        "\n",
        "\n",
        "| : OR\n",
        "\n",
        "\n",
        "^ : XOR\n",
        "\n",
        "\n",
        "~ : NOT\n",
        "\n",
        "\n",
        "<< : Zero fill left shift\n",
        "\n",
        "\n",
        "(>>) : Signed right shift"
      ],
      "metadata": {
        "id": "qLGaydHdByza"
      }
    },
    {
      "cell_type": "code",
      "source": [
        "a = 10  # 1010 in binary\n",
        "b = 4   # 0100 in binary\n",
        "\n",
        "print(a & b)  # Output: 0\n",
        "print(a | b)  # Output: 14\n",
        "print(a ^ b)  # Output: 14\n",
        "print(~a)     # Output: -11\n",
        "print(a << 1) # Output: 20\n",
        "print(a >> 1) # Output: 5\n"
      ],
      "metadata": {
        "id": "RcOt2YYHB91d",
        "colab": {
          "base_uri": "https://localhost:8080/"
        },
        "outputId": "b340abba-4496-491f-c833-5656997e1634"
      },
      "execution_count": 19,
      "outputs": [
        {
          "output_type": "stream",
          "name": "stdout",
          "text": [
            "0\n",
            "14\n",
            "14\n",
            "-11\n",
            "20\n",
            "5\n"
          ]
        }
      ]
    },
    {
      "cell_type": "markdown",
      "source": [
        "## 5. Assignment Operators:\n",
        "These operators are used to assign values to variables.\n",
        "\n",
        "= : Assign\n",
        "\n",
        "\n",
        "+= : Add and assign\n",
        "\n",
        "\n",
        "-= : Subtract and assign\n",
        "\n",
        "\n",
        "*= : Multiply and assign\n",
        "\n",
        "\n",
        "/= : Divide and assign\n",
        "\n",
        "\n",
        "%= : Modulus and assign\n",
        "\n",
        "\n",
        "**= : Exponentiation and assign\n",
        "\n",
        "\n",
        "//= : Floor division and assign"
      ],
      "metadata": {
        "id": "8RkxolUSCBm3"
      }
    },
    {
      "cell_type": "code",
      "source": [
        "a = 10\n",
        "a += 3  # Equivalent to a = a + 3\n",
        "print(a)  # Output: 13\n",
        "\n",
        "a -= 2  # Equivalent to a = a - 2\n",
        "print(a)  # Output: 11\n",
        "\n",
        "a *= 2  # Equivalent to a = a * 2\n",
        "print(a)  # Output: 22\n",
        "\n",
        "a /= 4  # Equivalent to a = a / 4\n",
        "print(a)  # Output: 5.5\n",
        "\n",
        "a %= 3  # Equivalent to a = a % 3\n",
        "print(a)  # Output: 2.5\n",
        "\n",
        "a **= 2  # Equivalent to a = a ** 2\n",
        "print(a)  # Output: 6.25\n",
        "\n",
        "a //= 2  # Equivalent to a = a // 2\n",
        "print(a)  # Output: 3.0"
      ],
      "metadata": {
        "id": "9vnWPLOBCIwD",
        "outputId": "a3e75822-389b-4920-f3bc-5dff796c4f05",
        "colab": {
          "base_uri": "https://localhost:8080/"
        }
      },
      "execution_count": 20,
      "outputs": [
        {
          "output_type": "stream",
          "name": "stdout",
          "text": [
            "13\n",
            "11\n",
            "22\n",
            "5.5\n",
            "2.5\n",
            "6.25\n",
            "3.0\n"
          ]
        }
      ]
    },
    {
      "cell_type": "markdown",
      "source": [
        "## 6.membership Operators:\n",
        "These operators are used to test if a sequence contains a value.\n",
        "\n",
        "in : Returns True if a sequence with the specified value is present in the object\n",
        "\n",
        "\n",
        "not in : Returns True if a sequence with the specified value is not present in the object"
      ],
      "metadata": {
        "id": "zTRQ_T6pCM8o"
      }
    },
    {
      "cell_type": "code",
      "source": [
        "x = [\"apple\", \"banana\", \"cherry\"]\n",
        "\n",
        "print(\"banana\" in x)  # Output: True\n",
        "print(\"mango\" not in x)  # Output: True"
      ],
      "metadata": {
        "id": "CdLScyKFCSEY",
        "outputId": "a66dc059-f15b-483c-90b5-aa9fb0c45f33",
        "colab": {
          "base_uri": "https://localhost:8080/"
        }
      },
      "execution_count": 21,
      "outputs": [
        {
          "output_type": "stream",
          "name": "stdout",
          "text": [
            "True\n",
            "True\n"
          ]
        }
      ]
    },
    {
      "cell_type": "markdown",
      "source": [
        "## 7. Identity Operators:\n",
        "These operators are used to compare the memory locations of two objects.\n",
        "\n",
        "is : Returns True if both variables are the same object\n",
        "\n",
        "\n",
        "is not : Returns True if both variables are not the same object"
      ],
      "metadata": {
        "id": "vbujxiCDCWD1"
      }
    },
    {
      "cell_type": "code",
      "source": [
        "x = [\"apple\", \"banana\", \"cherry\"]\n",
        "y = [\"apple\", \"banana\", \"cherry\"]\n",
        "z = x\n",
        "\n",
        "print(x is z)  # Output: True\n",
        "print(x is y)  # Output: False\n",
        "print(x == y)  # Output: True\n",
        "print(x is not y)  # Output: True\n",
        "print(x is not z)  # Output: False\n"
      ],
      "metadata": {
        "id": "4XBALQF5CZ7h",
        "colab": {
          "base_uri": "https://localhost:8080/"
        },
        "outputId": "340c116d-e8a2-4408-d936-10112d36894f"
      },
      "execution_count": 22,
      "outputs": [
        {
          "output_type": "stream",
          "name": "stdout",
          "text": [
            "True\n",
            "False\n",
            "True\n",
            "True\n",
            "False\n"
          ]
        }
      ]
    },
    {
      "cell_type": "markdown",
      "source": [
        "# CONDITIONS"
      ],
      "metadata": {
        "id": "ECcrh9zaDLq2"
      }
    },
    {
      "cell_type": "markdown",
      "source": [
        "In Python, conditions are used to execute code based on whether certain criteria are met. This is typically done using if, elif, and else statements. You can also use conditional expressions and ternary operators for concise conditional logic. Here’s a comprehensive overview of different types of conditional constructs in Python:"
      ],
      "metadata": {
        "id": "O8Ul4vRDDOho"
      }
    },
    {
      "cell_type": "markdown",
      "source": [
        "## 1. if Statement:\n",
        "\n",
        "  The if statement evaluates a condition and executes the block of code if the condition is True."
      ],
      "metadata": {
        "id": "kikke7zADWZX"
      }
    },
    {
      "cell_type": "code",
      "source": [
        "x = 10\n",
        "\n",
        "if x > 5:\n",
        "    print(\"x is greater than 5\")\n"
      ],
      "metadata": {
        "id": "bmu7LemjDhsQ",
        "colab": {
          "base_uri": "https://localhost:8080/"
        },
        "outputId": "6f0afe6e-6b6f-4600-897c-138210091470"
      },
      "execution_count": 23,
      "outputs": [
        {
          "output_type": "stream",
          "name": "stdout",
          "text": [
            "x is greater than 5\n"
          ]
        }
      ]
    },
    {
      "cell_type": "markdown",
      "source": [
        "## 2. if-else Statement:\n",
        "\n",
        "  The if-else statement provides an alternative block of code to execute if the condition is False."
      ],
      "metadata": {
        "id": "9qs4nQqoDmop"
      }
    },
    {
      "cell_type": "code",
      "source": [
        "x = 4\n",
        "\n",
        "if x > 5:\n",
        "    print(\"x is greater than 5\")\n",
        "else:\n",
        "    print(\"x is not greater than 5\")\n"
      ],
      "metadata": {
        "id": "KSfdGEnODmSI",
        "colab": {
          "base_uri": "https://localhost:8080/"
        },
        "outputId": "5cb020c9-a36a-4c10-b2e9-b8cc19c9a98a"
      },
      "execution_count": 24,
      "outputs": [
        {
          "output_type": "stream",
          "name": "stdout",
          "text": [
            "x is not greater than 5\n"
          ]
        }
      ]
    },
    {
      "cell_type": "markdown",
      "source": [
        "## 3. if-elif-else Statement:\n",
        "\n",
        "  The if-elif-else statement allows you to check multiple conditions. It executes the block of code for the first condition that is True. If none of the conditions are True, it executes the else block."
      ],
      "metadata": {
        "id": "s6YuwL--D3aR"
      }
    },
    {
      "cell_type": "code",
      "source": [
        "x = 7\n",
        "\n",
        "if x > 10:\n",
        "    print(\"x is greater than 10\")\n",
        "elif x == 7:\n",
        "    print(\"x is 7\")\n",
        "else:\n",
        "    print(\"x is less than 10 and not 7\")\n"
      ],
      "metadata": {
        "id": "UtetddW-D-Mn",
        "colab": {
          "base_uri": "https://localhost:8080/"
        },
        "outputId": "f4047e98-1cd5-40d3-c470-6484dcfc9197"
      },
      "execution_count": 25,
      "outputs": [
        {
          "output_type": "stream",
          "name": "stdout",
          "text": [
            "x is 7\n"
          ]
        }
      ]
    },
    {
      "cell_type": "markdown",
      "source": [
        "## 4. Nested if Statements:\n",
        "\n",
        "  You can nest if statements within another if statement to check multiple conditions."
      ],
      "metadata": {
        "id": "NxXs5gVxEB4x"
      }
    },
    {
      "cell_type": "code",
      "source": [
        "x = 15\n",
        "y = 10\n",
        "\n",
        "if x > 10:\n",
        "    if y > 5:\n",
        "        print(\"x is greater than 10 and y is greater than 5\")\n",
        "    else:\n",
        "        print(\"x is greater than 10 but y is not greater than 5\")\n",
        "else:\n",
        "    print(\"x is not greater than 10\")\n"
      ],
      "metadata": {
        "colab": {
          "base_uri": "https://localhost:8080/"
        },
        "id": "aJ6wlh01EGYp",
        "outputId": "da3c5f2b-75a2-405d-9530-852d4944b8cb"
      },
      "execution_count": 26,
      "outputs": [
        {
          "output_type": "stream",
          "name": "stdout",
          "text": [
            "x is greater than 10 and y is greater than 5\n"
          ]
        }
      ]
    },
    {
      "cell_type": "markdown",
      "source": [
        "**Summary:**\n",
        "\n",
        "\n",
        "- if Statement: Executes a block of code if the condition is True.\n",
        "- if-else Statement: Provides an alternative block of code if the condition is False.\n",
        "- if-elif-else Statement: Checks multiple conditions in sequence.\n",
        "- Nested if Statements: Used to check multiple conditions within each other."
      ],
      "metadata": {
        "id": "rD_GBP4FEShG"
      }
    },
    {
      "cell_type": "markdown",
      "source": [
        "## 5. Conditional Expressions (Ternary Operator)"
      ],
      "metadata": {
        "id": "9r15B2MFLtZd"
      }
    },
    {
      "cell_type": "markdown",
      "source": [
        "### Conditional expressions allow you to evaluate conditions in a single line. This is useful for simple conditional assignments."
      ],
      "metadata": {
        "id": "o70unkN5L3TD"
      }
    },
    {
      "cell_type": "code",
      "source": [
        "x = 6\n",
        "result = \"x is add\" if x % 2 == 0 else \"x is odd\"\n",
        "print(result)  # Output: x is odd"
      ],
      "metadata": {
        "colab": {
          "base_uri": "https://localhost:8080/"
        },
        "id": "Xe9d8EPSLkyI",
        "outputId": "fef3a9c1-b444-4054-ce79-b3504525333d"
      },
      "execution_count": 27,
      "outputs": [
        {
          "output_type": "stream",
          "name": "stdout",
          "text": [
            "x is add\n"
          ]
        }
      ]
    },
    {
      "cell_type": "markdown",
      "source": [
        "# LOOPS"
      ],
      "metadata": {
        "id": "quDhLoJ295Qz"
      }
    },
    {
      "cell_type": "markdown",
      "source": [
        "### In Python, loops are used to execute a block of code repeatedly until a certain condition is met. There are two primary types of loops in Python: for loops and while loops. Each has its specific use cases and syntax.\n",
        "\n",
        "- for loop\n",
        "- while loop"
      ],
      "metadata": {
        "id": "hLbdo1gR-EkC"
      }
    },
    {
      "cell_type": "markdown",
      "source": [
        "**for loop**\n",
        "\n",
        "### A for loop is used to iterate over a sequence (such as a list, tuple, string, or range) and execute a block of code for each element in the sequence."
      ],
      "metadata": {
        "id": "Cb4O4vdE-mAv"
      }
    },
    {
      "cell_type": "markdown",
      "source": [
        "## Syntax\n",
        "### for i in range():\n"
      ],
      "metadata": {
        "id": "_bM_C9pV-w3h"
      }
    },
    {
      "cell_type": "markdown",
      "source": [
        "Using range() to generate a sequence of numbers\n"
      ],
      "metadata": {
        "id": "x6Cf-_Cj_ML3"
      }
    },
    {
      "cell_type": "code",
      "source": [
        "for i in range(5):\n",
        "    print(i)"
      ],
      "metadata": {
        "id": "3Ide9hYpAe2_",
        "colab": {
          "base_uri": "https://localhost:8080/"
        },
        "outputId": "49f3f566-1d9c-4a35-c6fd-7f1cc8609b8d"
      },
      "execution_count": 28,
      "outputs": [
        {
          "output_type": "stream",
          "name": "stdout",
          "text": [
            "0\n",
            "1\n",
            "2\n",
            "3\n",
            "4\n"
          ]
        }
      ]
    },
    {
      "cell_type": "markdown",
      "source": [
        "## while loop\n",
        "\n",
        "A while loop repeatedly executes a block of code as long as a given condition is true."
      ],
      "metadata": {
        "id": "95jS8bQz_fQA"
      }
    },
    {
      "cell_type": "markdown",
      "source": [
        "## syntax\n",
        "\n",
        "### while condition:\n",
        "\n"
      ],
      "metadata": {
        "id": "B32TJcEO_oU6"
      }
    },
    {
      "cell_type": "code",
      "source": [
        "count = 0 #initilizing value\n",
        "while count < 5:\n",
        "    print(count)\n",
        "    count += 1  #increment"
      ],
      "metadata": {
        "colab": {
          "base_uri": "https://localhost:8080/"
        },
        "id": "wrdpf4lE_1Ph",
        "outputId": "6c7301be-42eb-4f02-9623-86541836bd89"
      },
      "execution_count": 29,
      "outputs": [
        {
          "output_type": "stream",
          "name": "stdout",
          "text": [
            "0\n",
            "1\n",
            "2\n",
            "3\n",
            "4\n"
          ]
        }
      ]
    },
    {
      "cell_type": "markdown",
      "source": [
        "# Functions\n"
      ],
      "metadata": {
        "id": "ckwXKHbeUtUm"
      }
    },
    {
      "cell_type": "markdown",
      "source": [
        "###In Python, you define functions using the def keyword followed by the function name, parentheses, and a colon. The body of the function is indented"
      ],
      "metadata": {
        "id": "TdsLMmYGUr93"
      }
    },
    {
      "cell_type": "markdown",
      "source": [
        "### syntax\n",
        "#### def function_name(parameters):\n",
        "\n",
        "     <!-- Function body\n",
        "\n",
        "     Optional return statement -->\n"
      ],
      "metadata": {
        "id": "BktIxM4aU3Go"
      }
    },
    {
      "cell_type": "code",
      "source": [
        "def greet():\n",
        "    print(\"Hello, world!\")\n",
        "\n",
        "greet()  # Output: Hello, world!\n"
      ],
      "metadata": {
        "id": "xwumw6oSVTqq",
        "colab": {
          "base_uri": "https://localhost:8080/"
        },
        "outputId": "60be8350-a89b-4cc6-ea19-11d7e40f5d67"
      },
      "execution_count": 30,
      "outputs": [
        {
          "output_type": "stream",
          "name": "stdout",
          "text": [
            "Hello, world!\n"
          ]
        }
      ]
    },
    {
      "cell_type": "code",
      "source": [
        "def add(a, b):\n",
        "    return a + b\n",
        "\n",
        "result = add(3, 5)\n",
        "print(result)  # Output: 8\n"
      ],
      "metadata": {
        "id": "7jLlvds5VWlt",
        "colab": {
          "base_uri": "https://localhost:8080/"
        },
        "outputId": "85a7661c-2d77-43a9-f6df-5e45ceb04b59"
      },
      "execution_count": 31,
      "outputs": [
        {
          "output_type": "stream",
          "name": "stdout",
          "text": [
            "8\n"
          ]
        }
      ]
    },
    {
      "cell_type": "markdown",
      "source": [
        "# List Methods"
      ],
      "metadata": {
        "id": "IlWTbHiqrZTA"
      }
    },
    {
      "cell_type": "markdown",
      "source": [
        "\n",
        "append()-Adds an element at the end of the list\n",
        "\n",
        "\n",
        "clear()-Removes all the elements from the list\n",
        "\n",
        "\n",
        "copy()-Returns a copy of the list\n",
        "\n",
        "\n",
        "count()-Returns the number of elements with the specified value\n",
        "\n",
        "\n",
        "extend()-Add the elements of a list (or any iterable), to the end of the current list\n",
        "\n",
        "\n",
        "index()-Returns the index of the first element with the specified value\n",
        "\n",
        "\n",
        "insert()-Adds an element at the specified position\n",
        "\n",
        "pop()-Removes the element at the specified position\n",
        "\n",
        "remove()-Removes the item with the specified value\n",
        "\n",
        "reverse()-Reverses the order of the list\n",
        "\n",
        "sort()-Sorts the list\n",
        "\n",
        "len()-Returns the number of elements in the list."
      ],
      "metadata": {
        "id": "MfSuDTQzrehN"
      }
    },
    {
      "cell_type": "markdown",
      "source": [
        "## append"
      ],
      "metadata": {
        "id": "chiIPTFbspeF"
      }
    },
    {
      "cell_type": "code",
      "source": [
        "my_list = [1, 2, 3]\n",
        "my_list.append(4)\n",
        "print(my_list)  # Output: [1, 2, 3, 4]\n"
      ],
      "metadata": {
        "id": "6Kk928qystYQ",
        "colab": {
          "base_uri": "https://localhost:8080/"
        },
        "outputId": "98c1d531-2417-4331-a814-95ec55fecb87"
      },
      "execution_count": 32,
      "outputs": [
        {
          "output_type": "stream",
          "name": "stdout",
          "text": [
            "[1, 2, 3, 4]\n"
          ]
        }
      ]
    },
    {
      "cell_type": "markdown",
      "source": [
        "## extend"
      ],
      "metadata": {
        "id": "Vzn3VIdusxG5"
      }
    },
    {
      "cell_type": "code",
      "source": [
        "my_list = [1, 2, 3]\n",
        "my_list.extend([4, 5])\n",
        "print(my_list)  # Output: [1, 2, 3, 4, 5]\n"
      ],
      "metadata": {
        "id": "m9-uThZBs036",
        "colab": {
          "base_uri": "https://localhost:8080/"
        },
        "outputId": "36d148ec-dc02-42c5-b36f-92b443d7f67e"
      },
      "execution_count": 33,
      "outputs": [
        {
          "output_type": "stream",
          "name": "stdout",
          "text": [
            "[1, 2, 3, 4, 5]\n"
          ]
        }
      ]
    },
    {
      "cell_type": "markdown",
      "source": [
        "## insert"
      ],
      "metadata": {
        "id": "JWEfy5B9s7Nd"
      }
    },
    {
      "cell_type": "code",
      "source": [
        "my_list = [1, 2, 3]\n",
        "my_list.insert(1, 'a')\n",
        "print(my_list)  # Output: [1, 'a', 2, 3]\n"
      ],
      "metadata": {
        "id": "KbvZTwuSs9hw",
        "colab": {
          "base_uri": "https://localhost:8080/"
        },
        "outputId": "39d5c024-45f7-400f-d8ab-09cbf98871ae"
      },
      "execution_count": 34,
      "outputs": [
        {
          "output_type": "stream",
          "name": "stdout",
          "text": [
            "[1, 'a', 2, 3]\n"
          ]
        }
      ]
    },
    {
      "cell_type": "markdown",
      "source": [
        "## remove"
      ],
      "metadata": {
        "id": "q0GTjeugs-sz"
      }
    },
    {
      "cell_type": "code",
      "source": [
        "my_list = [1, 2, 3, 2]\n",
        "my_list.remove(2)\n",
        "print(my_list)  # Output: [1, 3, 2]\n"
      ],
      "metadata": {
        "id": "pzUuHqoGtDKG",
        "colab": {
          "base_uri": "https://localhost:8080/"
        },
        "outputId": "4b02bff9-c6fb-4660-f8a7-28aa663de0d9"
      },
      "execution_count": 35,
      "outputs": [
        {
          "output_type": "stream",
          "name": "stdout",
          "text": [
            "[1, 3, 2]\n"
          ]
        }
      ]
    },
    {
      "cell_type": "markdown",
      "source": [
        "## pop"
      ],
      "metadata": {
        "id": "ny1yNonotHJ2"
      }
    },
    {
      "cell_type": "code",
      "source": [
        "my_list = [1, 2, 3]\n",
        "element = my_list.pop(1)\n",
        "print(element)  # Output: 2\n",
        "print(my_list)  # Output: [1, 3]\n"
      ],
      "metadata": {
        "id": "zban8zSAtJpr",
        "colab": {
          "base_uri": "https://localhost:8080/"
        },
        "outputId": "7bca5bb4-d42a-4b5c-df27-ed34fc4955da"
      },
      "execution_count": 36,
      "outputs": [
        {
          "output_type": "stream",
          "name": "stdout",
          "text": [
            "2\n",
            "[1, 3]\n"
          ]
        }
      ]
    },
    {
      "cell_type": "markdown",
      "source": [
        "## clear"
      ],
      "metadata": {
        "id": "J3D0Ux0ltPLc"
      }
    },
    {
      "cell_type": "code",
      "source": [
        "my_list = [1, 2, 3]\n",
        "my_list.clear()\n",
        "print(my_list)  # Output: []\n"
      ],
      "metadata": {
        "id": "ak9XHMMNtRO-",
        "colab": {
          "base_uri": "https://localhost:8080/"
        },
        "outputId": "ae539af9-8d35-413f-b3b9-a3893725d0f0"
      },
      "execution_count": 37,
      "outputs": [
        {
          "output_type": "stream",
          "name": "stdout",
          "text": [
            "[]\n"
          ]
        }
      ]
    },
    {
      "cell_type": "markdown",
      "source": [
        "## count"
      ],
      "metadata": {
        "id": "bXi5smjotmjv"
      }
    },
    {
      "cell_type": "code",
      "source": [
        "my_list = [1, 2, 3, 2]\n",
        "count = my_list.count(2)\n",
        "print(count)  # Output: 2\n"
      ],
      "metadata": {
        "id": "29FdN4OHtoOG",
        "colab": {
          "base_uri": "https://localhost:8080/"
        },
        "outputId": "5285ac9b-c37e-4296-bc4d-fc1b528897fc"
      },
      "execution_count": 38,
      "outputs": [
        {
          "output_type": "stream",
          "name": "stdout",
          "text": [
            "2\n"
          ]
        }
      ]
    },
    {
      "cell_type": "markdown",
      "source": [
        "## sort"
      ],
      "metadata": {
        "id": "wYjWTrX8ttFt"
      }
    },
    {
      "cell_type": "code",
      "source": [
        "my_list = [3, 1, 4, 2]\n",
        "my_list.sort()\n",
        "print(my_list)  # Output: [1, 2, 3, 4]\n",
        "\n",
        "# Sort in reverse order\n",
        "my_list.sort(reverse=True)\n",
        "print(my_list)  # Output: [4, 3, 2, 1]\n"
      ],
      "metadata": {
        "id": "g4PgWUwItvZj",
        "colab": {
          "base_uri": "https://localhost:8080/"
        },
        "outputId": "535c439a-47f9-4c46-e558-4f9797f6af39"
      },
      "execution_count": 39,
      "outputs": [
        {
          "output_type": "stream",
          "name": "stdout",
          "text": [
            "[1, 2, 3, 4]\n",
            "[4, 3, 2, 1]\n"
          ]
        }
      ]
    },
    {
      "cell_type": "markdown",
      "source": [
        "## reverse"
      ],
      "metadata": {
        "id": "tzpWg4hstyaL"
      }
    },
    {
      "cell_type": "code",
      "source": [
        "my_list = [1, 2, 3]\n",
        "my_list.reverse()\n",
        "print(my_list)  # Output: [3, 2, 1]\n"
      ],
      "metadata": {
        "id": "6gzDNemct0kK",
        "colab": {
          "base_uri": "https://localhost:8080/"
        },
        "outputId": "eb19eb87-19ce-469e-ed92-a3ca8bd0126b"
      },
      "execution_count": 40,
      "outputs": [
        {
          "output_type": "stream",
          "name": "stdout",
          "text": [
            "[3, 2, 1]\n"
          ]
        }
      ]
    },
    {
      "cell_type": "markdown",
      "source": [
        "## length"
      ],
      "metadata": {
        "id": "NbqxlS5rvEMq"
      }
    },
    {
      "cell_type": "code",
      "source": [
        "my_list = [1, 2, 3]\n",
        "length=len(my_list)\n",
        "print(length) #output:3"
      ],
      "metadata": {
        "id": "_0Nna5TWvH_z",
        "colab": {
          "base_uri": "https://localhost:8080/"
        },
        "outputId": "55835ac3-a595-40fc-f70e-94969e11bae2"
      },
      "execution_count": 41,
      "outputs": [
        {
          "output_type": "stream",
          "name": "stdout",
          "text": [
            "3\n"
          ]
        }
      ]
    },
    {
      "cell_type": "markdown",
      "source": [
        "# Insertion in list"
      ],
      "metadata": {
        "id": "24Whm-MhuVGK"
      }
    },
    {
      "cell_type": "markdown",
      "source": [
        "- append(): Adds an element to the end of the list.\n",
        "- insert(index, element): Inserts an element at a specified index."
      ],
      "metadata": {
        "id": "Qxt5geybueUt"
      }
    },
    {
      "cell_type": "markdown",
      "source": [
        "# Deletion in list"
      ],
      "metadata": {
        "id": "BXhhn9tmuohq"
      }
    },
    {
      "cell_type": "markdown",
      "source": [
        "- remove(element): Removes the first occurrence of a specified element.\n",
        "- pop(index): Removes and returns the element at the specified index (default is the last element).\n",
        "- clear(): Removes all elements from the list."
      ],
      "metadata": {
        "id": "Y81PT8JMusGv"
      }
    },
    {
      "cell_type": "markdown",
      "source": [
        "# set Methods"
      ],
      "metadata": {
        "id": "OAJPjKo9E3iL"
      }
    },
    {
      "cell_type": "markdown",
      "source": [
        "add()- Adds an element to the set.\n",
        "\n",
        "remove()-Removes a specific element from the set. Raises a KeyError if the element is not found.\n",
        "\n",
        "discard()-Removes a specific element from the set, but does not raise an error if the element is not found.\n",
        "\n",
        "pop()-Removes and returns an arbitrary element from the set.\n",
        "\n",
        "clear()-Removes all elements from the set.\n",
        "\n",
        "union()-Returns a set containing all elements from both sets.\n",
        "\n",
        "intersection()-Returns a set containing only elements that are common in both sets.\n"
      ],
      "metadata": {
        "id": "WN0mDLpKD_xt"
      }
    },
    {
      "cell_type": "markdown",
      "source": [
        "##Insertion"
      ],
      "metadata": {
        "id": "10Rteay0E2Vx"
      }
    },
    {
      "cell_type": "code",
      "source": [
        "my_set = {1, 2, 3}\n",
        "my_set.add(4)\n",
        "print(my_set)  # Output: {1, 2, 3, 4}\n"
      ],
      "metadata": {
        "id": "TMe-w46fFbHS",
        "colab": {
          "base_uri": "https://localhost:8080/"
        },
        "outputId": "04337198-2668-46ea-a84c-ea8f2a62d675"
      },
      "execution_count": 42,
      "outputs": [
        {
          "output_type": "stream",
          "name": "stdout",
          "text": [
            "{1, 2, 3, 4}\n"
          ]
        }
      ]
    },
    {
      "cell_type": "markdown",
      "source": [
        "##Deletion"
      ],
      "metadata": {
        "id": "B66o6GwcFd-T"
      }
    },
    {
      "cell_type": "code",
      "source": [
        "# Remove\n",
        "my_set.remove(3)\n",
        "print(my_set)  # Output: {1, 2, 4}\n",
        "\n",
        "# Discard\n",
        "my_set.discard(2)\n",
        "print(my_set)  # Output: {1, 4}\n",
        "\n",
        "# Pop\n",
        "element = my_set.pop()\n",
        "print(my_set)  # Output: {4}\n",
        "print(element)  # Output: 1\n",
        "\n",
        "# Clear\n",
        "my_set.clear()\n",
        "print(my_set)  # Output: set()\n"
      ],
      "metadata": {
        "id": "EK0xrV9-F4mH",
        "colab": {
          "base_uri": "https://localhost:8080/"
        },
        "outputId": "e0770acb-727b-40e0-a63c-cf36bbb1aef5"
      },
      "execution_count": 43,
      "outputs": [
        {
          "output_type": "stream",
          "name": "stdout",
          "text": [
            "{1, 2, 4}\n",
            "{1, 4}\n",
            "{4}\n",
            "1\n",
            "set()\n"
          ]
        }
      ]
    },
    {
      "cell_type": "markdown",
      "source": [
        "# Dictionary Methods\n",
        "\n"
      ],
      "metadata": {
        "id": "vQSVMrHzG460"
      }
    },
    {
      "cell_type": "markdown",
      "source": [
        "dict[key] = value-Adds a key-value pair to the dictionary.\n",
        "\n",
        "pop(key)-Removes the key and returns its value.\n",
        "\n",
        "del dict[key]-Deletes a key-value pair.\n",
        "\n",
        "clear()-Removes all items from the dictionary.\n",
        "\n",
        "keys()-Returns a view object of all the keys in the dictionary.\n",
        "\n",
        "values()-Returns a view object of all the values in the dictionary.\n",
        "\n",
        "items()-Returns a view object of all the key-value pairs in the dictionary.\n",
        "python\n",
        "\n",
        "copy()\tReturns a copy of the dictionary\n",
        "\n",
        "fromkeys()\tReturns a dictionary with the specified keys and value\n",
        "\n",
        "get()\tReturns the value of the specified key\n",
        "\n",
        "popitem()\tRemoves the last inserted key-value pair"
      ],
      "metadata": {
        "id": "8KV183rLG9_i"
      }
    },
    {
      "cell_type": "markdown",
      "source": [
        "##Inserting"
      ],
      "metadata": {
        "id": "74xrfIJdHjnU"
      }
    },
    {
      "cell_type": "code",
      "source": [
        "my_dict = {'a': 1, 'b': 2}\n",
        "\n",
        "# Insert\n",
        "my_dict['c'] = 3\n",
        "print(my_dict)  # Output: {'a': 1, 'b': 2, 'c': 3}\n"
      ],
      "metadata": {
        "id": "EOLh5KcdHgGc",
        "colab": {
          "base_uri": "https://localhost:8080/"
        },
        "outputId": "1f879b0d-bbcb-4bda-f4ce-da05b97f4687"
      },
      "execution_count": 44,
      "outputs": [
        {
          "output_type": "stream",
          "name": "stdout",
          "text": [
            "{'a': 1, 'b': 2, 'c': 3}\n"
          ]
        }
      ]
    },
    {
      "cell_type": "markdown",
      "source": [
        "##Deleting"
      ],
      "metadata": {
        "id": "LjFXHeOdHqP9"
      }
    },
    {
      "cell_type": "code",
      "source": [
        "# Pop\n",
        "value = my_dict.pop('b')\n",
        "print(my_dict)  # Output: {'a': 1, 'c': 3}\n",
        "print(value)  # Output: 2\n",
        "\n",
        "# Delete\n",
        "del my_dict['a']\n",
        "print(my_dict)  # Output: {'c': 3}\n",
        "\n",
        "# Clear\n",
        "my_dict.clear()\n",
        "print(my_dict)  # Output: {}\n"
      ],
      "metadata": {
        "id": "abPOzFFEHtJ6",
        "colab": {
          "base_uri": "https://localhost:8080/"
        },
        "outputId": "4db57ea6-bf74-421d-c798-c83305617831"
      },
      "execution_count": 45,
      "outputs": [
        {
          "output_type": "stream",
          "name": "stdout",
          "text": [
            "{'a': 1, 'c': 3}\n",
            "2\n",
            "{'c': 3}\n",
            "{}\n"
          ]
        }
      ]
    },
    {
      "cell_type": "code",
      "source": [
        "my_dict = {'a': 1, 'b': 2, 'c': 3}\n",
        "\n",
        "# Keys\n",
        "print(my_dict.keys())  # Output: dict_keys(['a', 'b', 'c'])\n",
        "\n",
        "# Values\n",
        "print(my_dict.values())  # Output: dict_values([1, 2, 3])\n",
        "\n",
        "# Items\n",
        "print(my_dict.items())  # Output: dict_items([('a', 1), ('b', 2), ('c', 3)])\n"
      ],
      "metadata": {
        "id": "Q9PapgLkHzN3",
        "colab": {
          "base_uri": "https://localhost:8080/"
        },
        "outputId": "428eb3cd-1ab9-4b0d-ec8c-8dac86de3ede"
      },
      "execution_count": 46,
      "outputs": [
        {
          "output_type": "stream",
          "name": "stdout",
          "text": [
            "dict_keys(['a', 'b', 'c'])\n",
            "dict_values([1, 2, 3])\n",
            "dict_items([('a', 1), ('b', 2), ('c', 3)])\n"
          ]
        }
      ]
    },
    {
      "cell_type": "markdown",
      "source": [
        "##Tuples Methods"
      ],
      "metadata": {
        "id": "_bTH4WCGIMai"
      }
    },
    {
      "cell_type": "markdown",
      "source": [
        "count()-Returns the number of times a specified value occurs in a tuple\n",
        "\n",
        "index()-Searches the tuple for a specified value and returns the position of where it was found"
      ],
      "metadata": {
        "id": "PjlrZwRUIQYT"
      }
    },
    {
      "cell_type": "code",
      "source": [
        "thistuple = (1, 3, 7, 8, 7, 5, 4, 6, 8, 5)\n",
        "\n",
        "x = thistuple.count(5)\n",
        "\n",
        "print(x)"
      ],
      "metadata": {
        "id": "zGaOkmeVIVS6",
        "colab": {
          "base_uri": "https://localhost:8080/"
        },
        "outputId": "fdae489a-6fca-49ab-f99e-f3daff92d661"
      },
      "execution_count": 47,
      "outputs": [
        {
          "output_type": "stream",
          "name": "stdout",
          "text": [
            "2\n"
          ]
        }
      ]
    },
    {
      "cell_type": "code",
      "source": [
        "thistuple = (1, 3, 7, 8, 7, 5, 4, 6, 8, 5)\n",
        "\n",
        "x = thistuple.index(8)\n",
        "\n",
        "print(x)"
      ],
      "metadata": {
        "id": "5d0M_-0nIZpw",
        "colab": {
          "base_uri": "https://localhost:8080/"
        },
        "outputId": "808abaa5-1602-41ae-b6de-f8e735217dee"
      },
      "execution_count": 48,
      "outputs": [
        {
          "output_type": "stream",
          "name": "stdout",
          "text": [
            "3\n"
          ]
        }
      ]
    },
    {
      "cell_type": "markdown",
      "metadata": {
        "id": "RK-UIq5gGMGB"
      },
      "source": [
        "# python libraries\n",
        "\n",
        "\n",
        "\n",
        "\n",
        "1.Numpy\n",
        "\n",
        "2.pandas\n",
        "\n",
        "3.Matplotlib\n",
        "\n",
        "4.Seaborn\n",
        "\n",
        "5.Scikit-learn - data mining and data analysis."
      ]
    },
    {
      "cell_type": "markdown",
      "metadata": {
        "id": "GwhMTYTbHHvZ"
      },
      "source": [
        "# *Numpy Library*"
      ]
    },
    {
      "cell_type": "markdown",
      "metadata": {
        "id": "PYVVZ59PHPGN"
      },
      "source": [
        "numpy is a python library.\n",
        "\n",
        "\n",
        "Numpy is used for working with arrays.\n",
        "\n",
        "Numpy stands for \"Numerical python\".\n",
        "\n",
        "NumPy was created in 2005 by Travis Oliphant. It is an open source project and you can use it freely.\n",
        "\n",
        "installation of numpy is \"pip install numpy\"\n"
      ]
    },
    {
      "cell_type": "markdown",
      "metadata": {
        "id": "iFbgT_VoIWft"
      },
      "source": [
        "# **Why we use numpy**"
      ]
    },
    {
      "cell_type": "markdown",
      "metadata": {
        "id": "_0MilmQOIg4k"
      },
      "source": [
        "NumPy aims to provide an array object that is up to 50x faster than traditional Python lists.\n",
        "\n",
        "The array object in NumPy is called ndarray.\n",
        "\n",
        "Arrays are very frequently used in data science."
      ]
    },
    {
      "cell_type": "markdown",
      "metadata": {
        "id": "K68lh1WmJbYN"
      },
      "source": [
        "# **Import NumPy**"
      ]
    },
    {
      "cell_type": "markdown",
      "metadata": {
        "id": "W8myQ1oXJmJv"
      },
      "source": [
        "import numpy or import numpy as np we use both import functions"
      ]
    },
    {
      "cell_type": "code",
      "execution_count": 49,
      "metadata": {
        "colab": {
          "base_uri": "https://localhost:8080/"
        },
        "id": "PVRm11F1J5Os",
        "outputId": "f6a39553-01ea-48f0-9c50-6f46499795b1"
      },
      "outputs": [
        {
          "output_type": "stream",
          "name": "stdout",
          "text": [
            "[1 2 3 4 5]\n"
          ]
        }
      ],
      "source": [
        "import numpy\n",
        "\n",
        "arr = numpy.array([1, 2, 3, 4, 5])\n",
        "\n",
        "print(arr)"
      ]
    },
    {
      "cell_type": "markdown",
      "metadata": {
        "id": "A9Os8KCiKCtU"
      },
      "source": [
        "# **Numpy as np**\n",
        "\n",
        "\n",
        "\n",
        "NumPy is usually imported under the np alias.\n",
        "\n",
        "import numpy as np"
      ]
    },
    {
      "cell_type": "code",
      "execution_count": 50,
      "metadata": {
        "colab": {
          "base_uri": "https://localhost:8080/"
        },
        "id": "YdFAaPxjKWIC",
        "outputId": "490dea97-93a0-4f49-e55d-4d2ae43608ed"
      },
      "outputs": [
        {
          "output_type": "stream",
          "name": "stdout",
          "text": [
            "[1 2 3 4 5]\n"
          ]
        }
      ],
      "source": [
        "import numpy as np\n",
        "\n",
        "arr = np.array([1, 2, 3, 4, 5])\n",
        "\n",
        "print(arr)"
      ]
    },
    {
      "cell_type": "markdown",
      "metadata": {
        "id": "dw8aKKiBK7ce"
      },
      "source": [
        "# **Create a NumPy ndarray Object**\n",
        "\n",
        "\n",
        "We can create a NumPy ndarray object by using the array() function."
      ]
    },
    {
      "cell_type": "code",
      "execution_count": 51,
      "metadata": {
        "id": "LIgSSkmiLIJP",
        "colab": {
          "base_uri": "https://localhost:8080/"
        },
        "outputId": "2ab08040-fb71-472d-d396-9fb1db1b9b45"
      },
      "outputs": [
        {
          "output_type": "stream",
          "name": "stdout",
          "text": [
            "[1 2 3 4 5]\n",
            "<class 'numpy.ndarray'>\n"
          ]
        }
      ],
      "source": [
        "import numpy as np\n",
        "\n",
        "arr = np.array([1, 2, 3, 4, 5])\n",
        "\n",
        "print(arr)\n",
        "\n",
        "print(type(arr))"
      ]
    },
    {
      "cell_type": "markdown",
      "metadata": {
        "id": "jmBqQtf1LVdZ"
      },
      "source": [
        "type(): This built-in Python function tells us the type of the object passed to it.\n",
        "\n",
        "To create an ndarray, we can pass a list, tuple or any array-like object into the array() method, and it will be converted into an ndarray:"
      ]
    },
    {
      "cell_type": "code",
      "execution_count": 52,
      "metadata": {
        "id": "I0pMH8VRLffz",
        "colab": {
          "base_uri": "https://localhost:8080/"
        },
        "outputId": "dce64fab-65b8-4d9b-ad07-7f3ceb1209cd"
      },
      "outputs": [
        {
          "output_type": "stream",
          "name": "stdout",
          "text": [
            "[1 2 3 4 5]\n"
          ]
        }
      ],
      "source": [
        "import numpy as np\n",
        "\n",
        "arr = np.array((1, 2, 3, 4, 5))\n",
        "\n",
        "print(arr)\n",
        "#using tuple"
      ]
    },
    {
      "cell_type": "markdown",
      "metadata": {
        "id": "kYmWWf5BLqxs"
      },
      "source": [
        "# Dimensions in Arrays\n",
        "\n",
        "# 0-D Arrays\n",
        "\n",
        "0-D arrays, or Scalars, are the elements in an array. Each value in an array is a 0-D array."
      ]
    },
    {
      "cell_type": "code",
      "execution_count": 53,
      "metadata": {
        "id": "6bCLmRYrMMBH",
        "colab": {
          "base_uri": "https://localhost:8080/"
        },
        "outputId": "99653c63-bbd3-4178-9d29-9a887fb4d367"
      },
      "outputs": [
        {
          "output_type": "stream",
          "name": "stdout",
          "text": [
            "42\n"
          ]
        }
      ],
      "source": [
        "#Create a 0-D array with value 42\n",
        "import numpy as np\n",
        "\n",
        "arr = np.array(42)\n",
        "\n",
        "print(arr)"
      ]
    },
    {
      "cell_type": "markdown",
      "metadata": {
        "id": "kMEkWZMsMihH"
      },
      "source": [
        "# 1-D arrays\n",
        "\n",
        "An array that has 0-D arrays as its elements is called uni-dimensional or 1-D array.\n",
        "\n",
        "These are the most common and basic arrays."
      ]
    },
    {
      "cell_type": "code",
      "execution_count": 54,
      "metadata": {
        "colab": {
          "base_uri": "https://localhost:8080/"
        },
        "id": "e9-i0WXrMw1A",
        "outputId": "7046f5b1-08b1-4159-9012-dd26f91baf5f"
      },
      "outputs": [
        {
          "output_type": "stream",
          "name": "stdout",
          "text": [
            "[1 2 3 4 5]\n"
          ]
        }
      ],
      "source": [
        "import numpy as np\n",
        "\n",
        "arr = np.array([1, 2, 3, 4, 5])\n",
        "\n",
        "print(arr)"
      ]
    },
    {
      "cell_type": "markdown",
      "metadata": {
        "id": "yM59TUp_M0Zl"
      },
      "source": [
        "# 2-D Arrays\n",
        "\n",
        "An array that has 1-D arrays as its elements is called a 2-D array."
      ]
    },
    {
      "cell_type": "code",
      "execution_count": 55,
      "metadata": {
        "colab": {
          "base_uri": "https://localhost:8080/"
        },
        "id": "zz1A1ThHOKAL",
        "outputId": "e73878d0-fae8-4f25-e3e6-06d6031b58e6"
      },
      "outputs": [
        {
          "output_type": "stream",
          "name": "stdout",
          "text": [
            "[[1 2 3]\n",
            " [4 5 6]]\n"
          ]
        }
      ],
      "source": [
        "import numpy as np\n",
        "\n",
        "arr = np.array([[1, 2, 3], [4, 5, 6]])\n",
        "\n",
        "print(arr)"
      ]
    },
    {
      "cell_type": "markdown",
      "metadata": {
        "id": "0tDe5x4ZNcJH"
      },
      "source": [
        "## **3-D arrays**\n",
        "\n",
        "An array that has 2-D arrays (matrices) as its elements is called 3-D array."
      ]
    },
    {
      "cell_type": "code",
      "execution_count": 56,
      "metadata": {
        "colab": {
          "base_uri": "https://localhost:8080/"
        },
        "id": "gYVU42iLNtUB",
        "outputId": "3a2d6e59-808b-43f9-8808-567a40365d56"
      },
      "outputs": [
        {
          "output_type": "stream",
          "name": "stdout",
          "text": [
            "[[[1 2 3]\n",
            "  [4 5 6]]\n",
            "\n",
            " [[1 2 3]\n",
            "  [4 5 6]]]\n"
          ]
        }
      ],
      "source": [
        "import numpy as np\n",
        "\n",
        "arr = np.array([[[1, 2, 3], [4, 5, 6]], [[1, 2, 3], [4, 5, 6]]])\n",
        "\n",
        "print(arr)"
      ]
    },
    {
      "cell_type": "markdown",
      "metadata": {
        "id": "O_KMq0w0U0Yo"
      },
      "source": [
        "# ***Numpy array indexing ***\n",
        "\n",
        "# Access Array Elements\n",
        "\n",
        "Array indexing is the same as accessing an array element.\n",
        "\n",
        "You can access an array element by referring to its index number.\n",
        "\n",
        "The indexes in NumPy arrays start with 0, meaning that the first element has index 0, and the second has index 1 etc."
      ]
    },
    {
      "cell_type": "code",
      "execution_count": 57,
      "metadata": {
        "colab": {
          "base_uri": "https://localhost:8080/"
        },
        "id": "VNJ5rubeValn",
        "outputId": "bbb4e281-f704-4142-d9d3-dac6dafd63a1"
      },
      "outputs": [
        {
          "output_type": "stream",
          "name": "stdout",
          "text": [
            "1\n",
            "2\n",
            "5\n"
          ]
        }
      ],
      "source": [
        "import numpy as np\n",
        "\n",
        "arr = np.array([1, 2, 3, 4])\n",
        "\n",
        "print(arr[0])\n",
        "print(arr[1])\n",
        "print(arr[1]+arr[2])"
      ]
    },
    {
      "cell_type": "markdown",
      "metadata": {
        "id": "aoPxb5MZVtVp"
      },
      "source": [
        "# **Access 2-D Arrays**\n",
        "To access elements from 2-D arrays we can use comma separated integers representing the dimension and the index of the element.\n"
      ]
    },
    {
      "cell_type": "code",
      "execution_count": 58,
      "metadata": {
        "colab": {
          "base_uri": "https://localhost:8080/"
        },
        "id": "TzquSJP1WCRI",
        "outputId": "b421b127-f20f-4824-8876-db2236033ffb"
      },
      "outputs": [
        {
          "output_type": "stream",
          "name": "stdout",
          "text": [
            "2nd element on 2nd row:  2\n"
          ]
        }
      ],
      "source": [
        "import numpy as np\n",
        "\n",
        "arr = np.array([[1,2,3,4,5], [6,7,8,9,10]])\n",
        "\n",
        "print('2nd element on 2nd row: ', arr[0, 1])"
      ]
    },
    {
      "cell_type": "code",
      "execution_count": 59,
      "metadata": {
        "colab": {
          "base_uri": "https://localhost:8080/"
        },
        "id": "6pk3T0URWHHv",
        "outputId": "217a382f-4fb7-4cba-dc44-552a9506bf83"
      },
      "outputs": [
        {
          "output_type": "stream",
          "name": "stdout",
          "text": [
            "5th element on 2nd row:  10\n"
          ]
        }
      ],
      "source": [
        "import numpy as np\n",
        "\n",
        "arr = np.array([[1,2,3,4,5], [6,7,8,9,10]])\n",
        "\n",
        "print('5th element on 2nd row: ', arr[1, 4])"
      ]
    },
    {
      "cell_type": "markdown",
      "metadata": {
        "id": "ll7M5R1SWOcs"
      },
      "source": [
        "# Access 3-D Arrays\n",
        "\n",
        "To access elements from 3-D arrays we can use comma separated integers representing the dimensions and the index of the element."
      ]
    },
    {
      "cell_type": "code",
      "execution_count": 60,
      "metadata": {
        "colab": {
          "base_uri": "https://localhost:8080/"
        },
        "id": "9oDHJHejWVc6",
        "outputId": "3d64beb0-94c9-470e-e6e1-a508e1619998"
      },
      "outputs": [
        {
          "output_type": "stream",
          "name": "stdout",
          "text": [
            "6\n"
          ]
        }
      ],
      "source": [
        "import numpy as np\n",
        "\n",
        "arr = np.array([[[1, 2, 3], [4, 5, 6]], [[7, 8, 9], [10, 11, 12]]])\n",
        "\n",
        "print(arr[0, 1, 2])"
      ]
    },
    {
      "cell_type": "markdown",
      "metadata": {
        "id": "v3kxk-ZbWYul"
      },
      "source": [
        "\n",
        "# **Negative Indexing**\n",
        "\n",
        "Use negative indexing to access an array from the end."
      ]
    },
    {
      "cell_type": "code",
      "execution_count": 61,
      "metadata": {
        "colab": {
          "base_uri": "https://localhost:8080/"
        },
        "id": "W12TdC2QWjAS",
        "outputId": "d30742c5-8b44-4c0f-95a4-382430cdaf90"
      },
      "outputs": [
        {
          "output_type": "stream",
          "name": "stdout",
          "text": [
            "Last element from 2nd dim:  10\n"
          ]
        }
      ],
      "source": [
        "#Print the last element from the 2nd dim:\n",
        "import numpy as np\n",
        "\n",
        "arr = np.array([[1,2,3,4,5], [6,7,8,9,10]])\n",
        "\n",
        "print('Last element from 2nd dim: ', arr[1, -1])"
      ]
    },
    {
      "cell_type": "markdown",
      "metadata": {
        "id": "tjAjzVRaX0MM"
      },
      "source": [
        "# ***NumPy Array Slicing***\n",
        "\n",
        "# Slicing arrays\n",
        "Slicing in python means taking elements from one given index to another given index.\n",
        "\n",
        "We pass slice instead of index like this: [start:end].\n",
        "\n",
        "We can also define the step, like this: [start:end:step].\n",
        "\n",
        "If we don't pass start its considered 0\n",
        "\n",
        "If we don't pass end its considered length of array in that dimension\n",
        "\n",
        "If we don't pass step its considered 1\n",
        "\n",
        "\n",
        "\n",
        "\n",
        "\n",
        "\n",
        "\n"
      ]
    },
    {
      "cell_type": "code",
      "execution_count": 62,
      "metadata": {
        "colab": {
          "base_uri": "https://localhost:8080/"
        },
        "id": "Vx4CFs90YLfq",
        "outputId": "8a5ce395-6959-4e45-e739-fe7ff6158fc1"
      },
      "outputs": [
        {
          "output_type": "stream",
          "name": "stdout",
          "text": [
            "[2 3 4 5]\n"
          ]
        }
      ],
      "source": [
        "import numpy as np\n",
        "\n",
        "arr = np.array([1, 2, 3, 4, 5, 6, 7])\n",
        "\n",
        "print(arr[1:5])"
      ]
    },
    {
      "cell_type": "code",
      "execution_count": 63,
      "metadata": {
        "colab": {
          "base_uri": "https://localhost:8080/"
        },
        "id": "hlp2gY7nYO8f",
        "outputId": "5694a55a-a197-4802-9651-fbdca378ef74"
      },
      "outputs": [
        {
          "output_type": "stream",
          "name": "stdout",
          "text": [
            "[5 6 7]\n"
          ]
        }
      ],
      "source": [
        "#Slice elements from index 4 to the end of the array:\n",
        "import numpy as np\n",
        "\n",
        "arr = np.array([1, 2, 3, 4, 5, 6, 7])\n",
        "\n",
        "print(arr[4:])\n"
      ]
    },
    {
      "cell_type": "code",
      "execution_count": 64,
      "metadata": {
        "colab": {
          "base_uri": "https://localhost:8080/"
        },
        "id": "tbR1-sbUYW2u",
        "outputId": "fac6dd9a-591e-44e7-b39a-b2aaba010c15"
      },
      "outputs": [
        {
          "output_type": "stream",
          "name": "stdout",
          "text": [
            "[1 2 3 4]\n"
          ]
        }
      ],
      "source": [
        "\n",
        "import numpy as np\n",
        "\n",
        "arr = np.array([1, 2, 3, 4, 5, 6, 7])\n",
        "\n",
        "print(arr[:4])\n",
        "\n"
      ]
    },
    {
      "cell_type": "code",
      "execution_count": 65,
      "metadata": {
        "colab": {
          "base_uri": "https://localhost:8080/"
        },
        "id": "FlC_hBvOYgDi",
        "outputId": "c30ee4a5-7a32-4ffe-b901-c86fa7724060"
      },
      "outputs": [
        {
          "output_type": "stream",
          "name": "stdout",
          "text": [
            "[5 6]\n"
          ]
        }
      ],
      "source": [
        "import numpy as np\n",
        "\n",
        "arr = np.array([1, 2, 3, 4, 5, 6, 7])\n",
        "\n",
        "print(arr[-3:-1])\n",
        "#\n",
        "#Slice from the index 3 from the end to index 1 from the end:"
      ]
    },
    {
      "cell_type": "code",
      "execution_count": 66,
      "metadata": {
        "colab": {
          "base_uri": "https://localhost:8080/"
        },
        "id": "4v8X398hYr91",
        "outputId": "ca099698-64c0-47c9-dd63-4e425ff90efc"
      },
      "outputs": [
        {
          "output_type": "stream",
          "name": "stdout",
          "text": [
            "[2 4]\n"
          ]
        }
      ],
      "source": [
        "import numpy as np\n",
        "\n",
        "arr = np.array([1, 2, 3, 4, 5, 6, 7])\n",
        "\n",
        "print(arr[1:5:2])\n",
        "#step"
      ]
    },
    {
      "cell_type": "code",
      "execution_count": 67,
      "metadata": {
        "colab": {
          "base_uri": "https://localhost:8080/"
        },
        "id": "9lEM4H4_YzIW",
        "outputId": "33a2a2b3-47b9-4db9-d4f5-cbd50bcee4c6"
      },
      "outputs": [
        {
          "output_type": "stream",
          "name": "stdout",
          "text": [
            "[1 2 3 4 5 6 7]\n"
          ]
        }
      ],
      "source": [
        "import numpy as np\n",
        "\n",
        "arr = np.array([1, 2, 3, 4, 5, 6, 7])\n",
        "\n",
        "print(arr[::1])\n",
        "#Return every other element from the entire array:"
      ]
    },
    {
      "cell_type": "markdown",
      "metadata": {
        "id": "_p2Y8xxnY-SU"
      },
      "source": [
        "# Slicing 2-d array\n",
        "\n",
        "\n",
        "From the second element, slice elements from index 1 to index 4 (not included):"
      ]
    },
    {
      "cell_type": "code",
      "execution_count": 68,
      "metadata": {
        "colab": {
          "base_uri": "https://localhost:8080/"
        },
        "id": "zayjHyeDZQs2",
        "outputId": "5ab05d2b-b8b8-4329-ea62-344aae4b91c1"
      },
      "outputs": [
        {
          "output_type": "stream",
          "name": "stdout",
          "text": [
            "[7 8 9]\n"
          ]
        }
      ],
      "source": [
        "import numpy as np\n",
        "\n",
        "arr = np.array([[1, 2, 3, 4, 5], [6, 7, 8, 9, 10]])\n",
        "\n",
        "print(arr[1, 1:4])\n"
      ]
    },
    {
      "cell_type": "markdown",
      "metadata": {
        "id": "5cL7d8i5aetf"
      },
      "source": [
        "# Data Types in NumPy\n",
        "\n",
        "Below is a list of all data types in NumPy and the characters used to represent them.\n",
        "\n",
        "i - integer\n",
        "b - boolean\n",
        "u - unsigned integer\n",
        "f - float\n",
        "c - complex float\n",
        "m - timedelta\n",
        "M - datetime\n",
        "O - object\n",
        "S - string\n",
        "U - unicode string\n",
        "V - fixed chunk of memory for other type ( void )"
      ]
    },
    {
      "cell_type": "code",
      "execution_count": 69,
      "metadata": {
        "colab": {
          "base_uri": "https://localhost:8080/"
        },
        "id": "5X5CiqCja0bK",
        "outputId": "2fa0a882-cbba-49cb-93a0-6d803c338384"
      },
      "outputs": [
        {
          "output_type": "stream",
          "name": "stdout",
          "text": [
            "int64\n"
          ]
        }
      ],
      "source": [
        "#Get the data type of an array object:\n",
        "import numpy as np\n",
        "\n",
        "arr = np.array([1, 2, 3, 4])\n",
        "\n",
        "print(arr.dtype)"
      ]
    },
    {
      "cell_type": "code",
      "execution_count": 70,
      "metadata": {
        "colab": {
          "base_uri": "https://localhost:8080/"
        },
        "id": "lyJ4Va-4bBwV",
        "outputId": "ae921155-4ff1-440b-b876-f0de5580d4dd"
      },
      "outputs": [
        {
          "output_type": "stream",
          "name": "stdout",
          "text": [
            "<U6\n"
          ]
        }
      ],
      "source": [
        "import numpy as np\n",
        "\n",
        "arr = np.array(['apple', 'banana', 'cherry'])\n",
        "\n",
        "print(arr.dtype)\n",
        "#Get the data type of an array containing strings:"
      ]
    },
    {
      "cell_type": "code",
      "execution_count": 71,
      "metadata": {
        "colab": {
          "base_uri": "https://localhost:8080/"
        },
        "id": "FXeFy02zbOvj",
        "outputId": "7de86ebb-1712-418e-cfc6-1be3f17dbeb3"
      },
      "outputs": [
        {
          "output_type": "stream",
          "name": "stdout",
          "text": [
            "[b'1' b'2' b'3' b'4']\n",
            "|S1\n"
          ]
        }
      ],
      "source": [
        "import numpy as np\n",
        "\n",
        "arr = np.array([1, 2, 3, 4], dtype='S')\n",
        "\n",
        "print(arr)\n",
        "print(arr.dtype)\n",
        "#Create an array with data type string:"
      ]
    },
    {
      "cell_type": "markdown",
      "metadata": {
        "id": "xSV9YpA7cApU"
      },
      "source": [
        "# NumPy Array Copy vs View\n",
        "\n",
        "The Difference Between Copy and View\n",
        "The main difference between a copy and a view of an array is that the copy is a new array, and the view is just a view of the original array.\n",
        "\n"
      ]
    },
    {
      "cell_type": "code",
      "execution_count": 72,
      "metadata": {
        "colab": {
          "base_uri": "https://localhost:8080/"
        },
        "id": "IGgFFzNaeZ9w",
        "outputId": "5a0493c7-97d1-400e-ea2e-5810d3e6000d"
      },
      "outputs": [
        {
          "output_type": "stream",
          "name": "stdout",
          "text": [
            "[42  2  3  4  5]\n",
            "[1 2 3 4 5]\n"
          ]
        }
      ],
      "source": [
        "#Make a copy, change the original array, and display both arrays:\n",
        "import numpy as np\n",
        "\n",
        "arr = np.array([1, 2, 3, 4, 5])\n",
        "x = arr.copy()\n",
        "arr[0] = 42\n",
        "\n",
        "print(arr)\n",
        "print(x)"
      ]
    },
    {
      "cell_type": "code",
      "execution_count": 73,
      "metadata": {
        "colab": {
          "base_uri": "https://localhost:8080/"
        },
        "id": "O-NvEhpqeiaP",
        "outputId": "81727aaa-2445-401a-c68f-19e0ea819b82"
      },
      "outputs": [
        {
          "output_type": "stream",
          "name": "stdout",
          "text": [
            "[42  2  3  4  5]\n",
            "[42  2  3  4  5]\n"
          ]
        }
      ],
      "source": [
        "#example of view\n",
        "import numpy as np\n",
        "\n",
        "arr = np.array([1, 2, 3, 4, 5])\n",
        "x = arr.view()\n",
        "arr[0] = 42\n",
        "\n",
        "print(arr)\n",
        "print(x)"
      ]
    },
    {
      "cell_type": "markdown",
      "metadata": {
        "id": "ix_MHYF_fy7-"
      },
      "source": [
        "# Shape of an Array\n",
        "\n",
        "The shape of an array is the number of elements in each dimension."
      ]
    },
    {
      "cell_type": "code",
      "execution_count": 74,
      "metadata": {
        "colab": {
          "base_uri": "https://localhost:8080/"
        },
        "id": "X4xGfraqf6vJ",
        "outputId": "df599b5e-b9e2-48aa-8d9a-bf2e77e5b245"
      },
      "outputs": [
        {
          "output_type": "stream",
          "name": "stdout",
          "text": [
            "(2, 4)\n"
          ]
        }
      ],
      "source": [
        "import numpy as np\n",
        "\n",
        "arr = np.array([[1, 2, 3, 4], [5, 6, 7, 8]])\n",
        "\n",
        "print(arr.shape)#Print the shape of a 2-D array:"
      ]
    },
    {
      "cell_type": "markdown",
      "metadata": {
        "id": "hOJ8MT1HgP6z"
      },
      "source": [
        "# NumPy Array Reshaping\n",
        "\n",
        "Reshaping means changing the shape of an array.\n",
        "\n",
        "The shape of an array is the number of elements in each dimension."
      ]
    },
    {
      "cell_type": "code",
      "execution_count": 75,
      "metadata": {
        "colab": {
          "base_uri": "https://localhost:8080/"
        },
        "id": "ubq6vkjDgd8t",
        "outputId": "03fdb89d-83a1-4c3f-9e5a-e188b55d4376"
      },
      "outputs": [
        {
          "output_type": "stream",
          "name": "stdout",
          "text": [
            "[[ 1  2  3]\n",
            " [ 4  5  6]\n",
            " [ 7  8  9]\n",
            " [10 11 12]]\n"
          ]
        }
      ],
      "source": [
        "import numpy as np\n",
        "\n",
        "arr = np.array([1, 2, 3, 4, 5, 6, 7, 8, 9, 10, 11, 12])\n",
        "\n",
        "newarr = arr.reshape(4, 3)\n",
        "\n",
        "print(newarr)\n",
        "\n",
        "#Convert the following 1-D array with 12 elements into a 2-D array.\n",
        "\n",
        "#The outermost dimension will have 4 arrays, each with 3 elements:\n",
        "\n"
      ]
    },
    {
      "cell_type": "markdown",
      "metadata": {
        "id": "kaoifVPKhJ1T"
      },
      "source": [
        "# Sorting Arrays\n",
        "\n",
        "Sorting means putting elements in an ordered sequence."
      ]
    },
    {
      "cell_type": "code",
      "execution_count": 76,
      "metadata": {
        "colab": {
          "base_uri": "https://localhost:8080/"
        },
        "id": "CUmztKX2hPOs",
        "outputId": "78038343-cdb7-42d1-a3bd-945787a7de9e"
      },
      "outputs": [
        {
          "output_type": "stream",
          "name": "stdout",
          "text": [
            "[0 1 2 3]\n"
          ]
        }
      ],
      "source": [
        "import numpy as np\n",
        "\n",
        "arr = np.array([3, 2, 0, 1])\n",
        "\n",
        "print(np.sort(arr))"
      ]
    },
    {
      "cell_type": "code",
      "execution_count": 77,
      "metadata": {
        "colab": {
          "base_uri": "https://localhost:8080/"
        },
        "id": "GGkqjbsShWDP",
        "outputId": "8d3e0909-096c-4bc5-f442-bd86fe9bb236"
      },
      "outputs": [
        {
          "output_type": "stream",
          "name": "stdout",
          "text": [
            "['apple' 'banana' 'cherry']\n"
          ]
        }
      ],
      "source": [
        "import numpy as np\n",
        "\n",
        "arr = np.array(['banana', 'cherry', 'apple'])\n",
        "\n",
        "print(np.sort(arr))#Sort the array alphabetically:"
      ]
    },
    {
      "cell_type": "markdown",
      "metadata": {
        "id": "t1DBPrq3jHbo"
      },
      "source": [
        "# ***Pandas ***\n",
        "\n",
        "What is Pandas?\n",
        "\n",
        "Pandas is a Python library used for working with data sets.\n",
        "\n",
        "It has functions for analyzing, cleaning, exploring, and manipulating data.\n",
        "\n",
        "Installation of pandas is import pandas as pd"
      ]
    },
    {
      "cell_type": "code",
      "execution_count": 78,
      "metadata": {
        "colab": {
          "base_uri": "https://localhost:8080/"
        },
        "id": "jDP08AlElZD6",
        "outputId": "f219d1f1-c6d3-42de-d4ea-c1023a14fc6a"
      },
      "outputs": [
        {
          "output_type": "stream",
          "name": "stdout",
          "text": [
            "    cars  passings\n",
            "0    BMW         3\n",
            "1  Volvo         7\n",
            "2   Ford         2\n"
          ]
        }
      ],
      "source": [
        "\n",
        "import pandas as pd\n",
        "\n",
        "mydataset = {\n",
        "  'cars': [\"BMW\", \"Volvo\", \"Ford\"],\n",
        "  'passings': [3, 7, 2]\n",
        "}\n",
        "\n",
        "myvar = pd.DataFrame(mydataset)\n",
        "\n",
        "print(myvar)"
      ]
    },
    {
      "cell_type": "markdown",
      "metadata": {
        "id": "RthEuLtupz9z"
      },
      "source": [
        "# **What is a Series?**\n",
        "A Pandas Series is like a column in a table.\n",
        "\n",
        "It is a one-dimensional array holding data of any type."
      ]
    },
    {
      "cell_type": "code",
      "execution_count": 79,
      "metadata": {
        "colab": {
          "base_uri": "https://localhost:8080/"
        },
        "id": "8VKz6zO3p9lr",
        "outputId": "54850728-16dd-4371-f863-6e1c5b3bb040"
      },
      "outputs": [
        {
          "output_type": "stream",
          "name": "stdout",
          "text": [
            "0    1\n",
            "1    7\n",
            "2    2\n",
            "dtype: int64\n"
          ]
        }
      ],
      "source": [
        "import pandas as pd\n",
        "\n",
        "a = [1, 7, 2]\n",
        "\n",
        "myvar = pd.Series(a)\n",
        "\n",
        "print(myvar)"
      ]
    },
    {
      "cell_type": "markdown",
      "metadata": {
        "id": "qwpysHYZqIto"
      },
      "source": [
        "# Labels\n",
        "\n",
        "If nothing else is specified, the values are labeled with their index number. First value has index 0, second value has index 1 etc.\n",
        "\n",
        "This label can be used to access a specified value."
      ]
    },
    {
      "cell_type": "code",
      "execution_count": 80,
      "metadata": {
        "colab": {
          "base_uri": "https://localhost:8080/"
        },
        "id": "LqlQJx6jqjEh",
        "outputId": "ff80a297-3bbb-4298-e10c-d4b316b5fe6f"
      },
      "outputs": [
        {
          "output_type": "stream",
          "name": "stdout",
          "text": [
            "1\n"
          ]
        }
      ],
      "source": [
        "print(myvar[0])#Return the first value of the Series:"
      ]
    },
    {
      "cell_type": "markdown",
      "metadata": {
        "id": "DAmfWbdeqxTf"
      },
      "source": [
        "# create Labels\n",
        "\n",
        "With the index argument, you can name your own labels.\n"
      ]
    },
    {
      "cell_type": "code",
      "execution_count": 81,
      "metadata": {
        "colab": {
          "base_uri": "https://localhost:8080/"
        },
        "id": "lKIoRmKZqu0n",
        "outputId": "dc88d226-4079-41db-aaf5-a41fd470fd20"
      },
      "outputs": [
        {
          "output_type": "stream",
          "name": "stdout",
          "text": [
            "x    1\n",
            "y    7\n",
            "z    2\n",
            "dtype: int64\n",
            "7\n"
          ]
        }
      ],
      "source": [
        "#Create your own labels:\n",
        "\n",
        "import pandas as pd\n",
        "\n",
        "a = [1, 7, 2]\n",
        "\n",
        "myvar = pd.Series(a, index = [\"x\", \"y\", \"z\"])\n",
        "\n",
        "print(myvar)\n",
        "print(myvar[\"y\"])"
      ]
    },
    {
      "cell_type": "markdown",
      "metadata": {
        "id": "UqgEFyF1rMyo"
      },
      "source": [
        "# Key/Value Objects as Series\n",
        "\n",
        "You can also use a key/value object, like a dictionary, when creating a Series."
      ]
    },
    {
      "cell_type": "code",
      "execution_count": 82,
      "metadata": {
        "colab": {
          "base_uri": "https://localhost:8080/"
        },
        "id": "5Vy7h80PrR8M",
        "outputId": "ec748810-2e2d-4f9a-eeef-1cff972caea8"
      },
      "outputs": [
        {
          "output_type": "stream",
          "name": "stdout",
          "text": [
            "day1    420\n",
            "day2    380\n",
            "day3    390\n",
            "dtype: int64\n"
          ]
        }
      ],
      "source": [
        "#create a simple Pandas Series from a dictionary:\n",
        "\n",
        "import pandas as pd\n",
        "\n",
        "calories = {\"day1\": 420, \"day2\": 380, \"day3\": 390}\n",
        "\n",
        "myvar = pd.Series(calories)\n",
        "\n",
        "print(myvar)"
      ]
    },
    {
      "cell_type": "code",
      "execution_count": 83,
      "metadata": {
        "colab": {
          "base_uri": "https://localhost:8080/"
        },
        "id": "CAQsHz73rb8v",
        "outputId": "e93564e2-2e28-4ee5-951a-060a60375a29"
      },
      "outputs": [
        {
          "output_type": "stream",
          "name": "stdout",
          "text": [
            "day1    420\n",
            "day2    380\n",
            "dtype: int64\n"
          ]
        }
      ],
      "source": [
        "#Create a Series using only data from \"day1\" and \"day2\":\n",
        "\n",
        "import pandas as pd\n",
        "\n",
        "calories = {\"day1\": 420, \"day2\": 380, \"day3\": 390}\n",
        "\n",
        "myvar = pd.Series(calories, index = [\"day1\", \"day2\"])\n",
        "\n",
        "print(myvar)"
      ]
    },
    {
      "cell_type": "markdown",
      "metadata": {
        "id": "dCbsveTWre8o"
      },
      "source": [
        "# **DataFrames**\n",
        "\n",
        "Data sets in Pandas are usually multi-dimensional tables, called DataFrames.\n",
        "\n",
        "Series is like a column, a DataFrame is the whole table."
      ]
    },
    {
      "cell_type": "code",
      "execution_count": 84,
      "metadata": {
        "colab": {
          "base_uri": "https://localhost:8080/"
        },
        "id": "ppDSdnhvrqFh",
        "outputId": "1c3952a3-d2e1-4f1c-da41-04b50f3af684"
      },
      "outputs": [
        {
          "output_type": "stream",
          "name": "stdout",
          "text": [
            "   calories  duration\n",
            "0       420        50\n",
            "1       380        40\n",
            "2       390        45\n"
          ]
        }
      ],
      "source": [
        "#Create a DataFrame from two Series:\n",
        "\n",
        "import pandas as pd\n",
        "\n",
        "data = {\n",
        "  \"calories\": [420, 380, 390],\n",
        "  \"duration\": [50, 40, 45]\n",
        "}\n",
        "\n",
        "myvar = pd.DataFrame(data)\n",
        "\n",
        "print(myvar)"
      ]
    },
    {
      "cell_type": "markdown",
      "metadata": {
        "id": "PDCUk5-ntLx4"
      },
      "source": [
        "# What is a DataFrame?\n",
        "A Pandas DataFrame is a 2 dimensional data structure, like a 2 dimensional array, or a table with rows and columns."
      ]
    },
    {
      "cell_type": "code",
      "execution_count": 85,
      "metadata": {
        "colab": {
          "base_uri": "https://localhost:8080/"
        },
        "id": "k0luYgzwtUfs",
        "outputId": "203780d7-d8ec-4f6a-b5bc-df76ec189f46"
      },
      "outputs": [
        {
          "output_type": "stream",
          "name": "stdout",
          "text": [
            "   calories  duration\n",
            "0       420        50\n",
            "1       380        40\n",
            "2       390        45\n",
            "calories    420\n",
            "duration     50\n",
            "Name: 0, dtype: int64\n"
          ]
        }
      ],
      "source": [
        "\n",
        "\n",
        "\n",
        "\n",
        "\n",
        "#Create a simple Pandas DataFrame:\n",
        "\n",
        "import pandas as pd\n",
        "\n",
        "data = {\n",
        "  \"calories\": [420, 380, 390],\n",
        "  \"duration\": [50, 40, 45]\n",
        "}\n",
        "\n",
        "#load data into a DataFrame object:\n",
        "df = pd.DataFrame(data)\n",
        "\n",
        "print(df)\n",
        "print(df.loc[0])"
      ]
    },
    {
      "cell_type": "markdown",
      "metadata": {
        "id": "O5z4nEDBthEv"
      },
      "source": [
        "**Named Indexes**\n",
        "With the index argument, you can name your own indexes."
      ]
    },
    {
      "cell_type": "markdown",
      "metadata": {
        "id": "P1wJ_Lk4twVf"
      },
      "source": [
        "# *Load Files Into a DataFrame*\n",
        "If your data sets are stored in a file, Pandas can load them into a DataFrame."
      ]
    },
    {
      "cell_type": "code",
      "execution_count": 86,
      "metadata": {
        "id": "nIUxwR8nt21V",
        "outputId": "f2018f08-2d5a-4926-fa69-e834436e941d",
        "colab": {
          "base_uri": "https://localhost:8080/",
          "height": 651
        }
      },
      "outputs": [
        {
          "output_type": "error",
          "ename": "FileNotFoundError",
          "evalue": "[Errno 2] No such file or directory: 'data.csv'",
          "traceback": [
            "\u001b[0;31m---------------------------------------------------------------------------\u001b[0m",
            "\u001b[0;31mFileNotFoundError\u001b[0m                         Traceback (most recent call last)",
            "\u001b[0;32m<ipython-input-86-8ffe9c89cc7a>\u001b[0m in \u001b[0;36m<cell line: 3>\u001b[0;34m()\u001b[0m\n\u001b[1;32m      1\u001b[0m \u001b[0;32mimport\u001b[0m \u001b[0mpandas\u001b[0m \u001b[0;32mas\u001b[0m \u001b[0mpd\u001b[0m\u001b[0;34m\u001b[0m\u001b[0;34m\u001b[0m\u001b[0m\n\u001b[1;32m      2\u001b[0m \u001b[0;34m\u001b[0m\u001b[0m\n\u001b[0;32m----> 3\u001b[0;31m \u001b[0mdf\u001b[0m \u001b[0;34m=\u001b[0m \u001b[0mpd\u001b[0m\u001b[0;34m.\u001b[0m\u001b[0mread_csv\u001b[0m\u001b[0;34m(\u001b[0m\u001b[0;34m'data.csv'\u001b[0m\u001b[0;34m)\u001b[0m\u001b[0;34m\u001b[0m\u001b[0;34m\u001b[0m\u001b[0m\n\u001b[0m\u001b[1;32m      4\u001b[0m \u001b[0;34m\u001b[0m\u001b[0m\n\u001b[1;32m      5\u001b[0m \u001b[0mprint\u001b[0m\u001b[0;34m(\u001b[0m\u001b[0mdf\u001b[0m\u001b[0;34m)\u001b[0m\u001b[0;34m\u001b[0m\u001b[0;34m\u001b[0m\u001b[0m\n",
            "\u001b[0;32m/usr/local/lib/python3.10/dist-packages/pandas/io/parsers/readers.py\u001b[0m in \u001b[0;36mread_csv\u001b[0;34m(filepath_or_buffer, sep, delimiter, header, names, index_col, usecols, dtype, engine, converters, true_values, false_values, skipinitialspace, skiprows, skipfooter, nrows, na_values, keep_default_na, na_filter, verbose, skip_blank_lines, parse_dates, infer_datetime_format, keep_date_col, date_parser, date_format, dayfirst, cache_dates, iterator, chunksize, compression, thousands, decimal, lineterminator, quotechar, quoting, doublequote, escapechar, comment, encoding, encoding_errors, dialect, on_bad_lines, delim_whitespace, low_memory, memory_map, float_precision, storage_options, dtype_backend)\u001b[0m\n\u001b[1;32m   1024\u001b[0m     \u001b[0mkwds\u001b[0m\u001b[0;34m.\u001b[0m\u001b[0mupdate\u001b[0m\u001b[0;34m(\u001b[0m\u001b[0mkwds_defaults\u001b[0m\u001b[0;34m)\u001b[0m\u001b[0;34m\u001b[0m\u001b[0;34m\u001b[0m\u001b[0m\n\u001b[1;32m   1025\u001b[0m \u001b[0;34m\u001b[0m\u001b[0m\n\u001b[0;32m-> 1026\u001b[0;31m     \u001b[0;32mreturn\u001b[0m \u001b[0m_read\u001b[0m\u001b[0;34m(\u001b[0m\u001b[0mfilepath_or_buffer\u001b[0m\u001b[0;34m,\u001b[0m \u001b[0mkwds\u001b[0m\u001b[0;34m)\u001b[0m\u001b[0;34m\u001b[0m\u001b[0;34m\u001b[0m\u001b[0m\n\u001b[0m\u001b[1;32m   1027\u001b[0m \u001b[0;34m\u001b[0m\u001b[0m\n\u001b[1;32m   1028\u001b[0m \u001b[0;34m\u001b[0m\u001b[0m\n",
            "\u001b[0;32m/usr/local/lib/python3.10/dist-packages/pandas/io/parsers/readers.py\u001b[0m in \u001b[0;36m_read\u001b[0;34m(filepath_or_buffer, kwds)\u001b[0m\n\u001b[1;32m    618\u001b[0m \u001b[0;34m\u001b[0m\u001b[0m\n\u001b[1;32m    619\u001b[0m     \u001b[0;31m# Create the parser.\u001b[0m\u001b[0;34m\u001b[0m\u001b[0;34m\u001b[0m\u001b[0m\n\u001b[0;32m--> 620\u001b[0;31m     \u001b[0mparser\u001b[0m \u001b[0;34m=\u001b[0m \u001b[0mTextFileReader\u001b[0m\u001b[0;34m(\u001b[0m\u001b[0mfilepath_or_buffer\u001b[0m\u001b[0;34m,\u001b[0m \u001b[0;34m**\u001b[0m\u001b[0mkwds\u001b[0m\u001b[0;34m)\u001b[0m\u001b[0;34m\u001b[0m\u001b[0;34m\u001b[0m\u001b[0m\n\u001b[0m\u001b[1;32m    621\u001b[0m \u001b[0;34m\u001b[0m\u001b[0m\n\u001b[1;32m    622\u001b[0m     \u001b[0;32mif\u001b[0m \u001b[0mchunksize\u001b[0m \u001b[0;32mor\u001b[0m \u001b[0miterator\u001b[0m\u001b[0;34m:\u001b[0m\u001b[0;34m\u001b[0m\u001b[0;34m\u001b[0m\u001b[0m\n",
            "\u001b[0;32m/usr/local/lib/python3.10/dist-packages/pandas/io/parsers/readers.py\u001b[0m in \u001b[0;36m__init__\u001b[0;34m(self, f, engine, **kwds)\u001b[0m\n\u001b[1;32m   1618\u001b[0m \u001b[0;34m\u001b[0m\u001b[0m\n\u001b[1;32m   1619\u001b[0m         \u001b[0mself\u001b[0m\u001b[0;34m.\u001b[0m\u001b[0mhandles\u001b[0m\u001b[0;34m:\u001b[0m \u001b[0mIOHandles\u001b[0m \u001b[0;34m|\u001b[0m \u001b[0;32mNone\u001b[0m \u001b[0;34m=\u001b[0m \u001b[0;32mNone\u001b[0m\u001b[0;34m\u001b[0m\u001b[0;34m\u001b[0m\u001b[0m\n\u001b[0;32m-> 1620\u001b[0;31m         \u001b[0mself\u001b[0m\u001b[0;34m.\u001b[0m\u001b[0m_engine\u001b[0m \u001b[0;34m=\u001b[0m \u001b[0mself\u001b[0m\u001b[0;34m.\u001b[0m\u001b[0m_make_engine\u001b[0m\u001b[0;34m(\u001b[0m\u001b[0mf\u001b[0m\u001b[0;34m,\u001b[0m \u001b[0mself\u001b[0m\u001b[0;34m.\u001b[0m\u001b[0mengine\u001b[0m\u001b[0;34m)\u001b[0m\u001b[0;34m\u001b[0m\u001b[0;34m\u001b[0m\u001b[0m\n\u001b[0m\u001b[1;32m   1621\u001b[0m \u001b[0;34m\u001b[0m\u001b[0m\n\u001b[1;32m   1622\u001b[0m     \u001b[0;32mdef\u001b[0m \u001b[0mclose\u001b[0m\u001b[0;34m(\u001b[0m\u001b[0mself\u001b[0m\u001b[0;34m)\u001b[0m \u001b[0;34m->\u001b[0m \u001b[0;32mNone\u001b[0m\u001b[0;34m:\u001b[0m\u001b[0;34m\u001b[0m\u001b[0;34m\u001b[0m\u001b[0m\n",
            "\u001b[0;32m/usr/local/lib/python3.10/dist-packages/pandas/io/parsers/readers.py\u001b[0m in \u001b[0;36m_make_engine\u001b[0;34m(self, f, engine)\u001b[0m\n\u001b[1;32m   1878\u001b[0m                 \u001b[0;32mif\u001b[0m \u001b[0;34m\"b\"\u001b[0m \u001b[0;32mnot\u001b[0m \u001b[0;32min\u001b[0m \u001b[0mmode\u001b[0m\u001b[0;34m:\u001b[0m\u001b[0;34m\u001b[0m\u001b[0;34m\u001b[0m\u001b[0m\n\u001b[1;32m   1879\u001b[0m                     \u001b[0mmode\u001b[0m \u001b[0;34m+=\u001b[0m \u001b[0;34m\"b\"\u001b[0m\u001b[0;34m\u001b[0m\u001b[0;34m\u001b[0m\u001b[0m\n\u001b[0;32m-> 1880\u001b[0;31m             self.handles = get_handle(\n\u001b[0m\u001b[1;32m   1881\u001b[0m                 \u001b[0mf\u001b[0m\u001b[0;34m,\u001b[0m\u001b[0;34m\u001b[0m\u001b[0;34m\u001b[0m\u001b[0m\n\u001b[1;32m   1882\u001b[0m                 \u001b[0mmode\u001b[0m\u001b[0;34m,\u001b[0m\u001b[0;34m\u001b[0m\u001b[0;34m\u001b[0m\u001b[0m\n",
            "\u001b[0;32m/usr/local/lib/python3.10/dist-packages/pandas/io/common.py\u001b[0m in \u001b[0;36mget_handle\u001b[0;34m(path_or_buf, mode, encoding, compression, memory_map, is_text, errors, storage_options)\u001b[0m\n\u001b[1;32m    871\u001b[0m         \u001b[0;32mif\u001b[0m \u001b[0mioargs\u001b[0m\u001b[0;34m.\u001b[0m\u001b[0mencoding\u001b[0m \u001b[0;32mand\u001b[0m \u001b[0;34m\"b\"\u001b[0m \u001b[0;32mnot\u001b[0m \u001b[0;32min\u001b[0m \u001b[0mioargs\u001b[0m\u001b[0;34m.\u001b[0m\u001b[0mmode\u001b[0m\u001b[0;34m:\u001b[0m\u001b[0;34m\u001b[0m\u001b[0;34m\u001b[0m\u001b[0m\n\u001b[1;32m    872\u001b[0m             \u001b[0;31m# Encoding\u001b[0m\u001b[0;34m\u001b[0m\u001b[0;34m\u001b[0m\u001b[0m\n\u001b[0;32m--> 873\u001b[0;31m             handle = open(\n\u001b[0m\u001b[1;32m    874\u001b[0m                 \u001b[0mhandle\u001b[0m\u001b[0;34m,\u001b[0m\u001b[0;34m\u001b[0m\u001b[0;34m\u001b[0m\u001b[0m\n\u001b[1;32m    875\u001b[0m                 \u001b[0mioargs\u001b[0m\u001b[0;34m.\u001b[0m\u001b[0mmode\u001b[0m\u001b[0;34m,\u001b[0m\u001b[0;34m\u001b[0m\u001b[0;34m\u001b[0m\u001b[0m\n",
            "\u001b[0;31mFileNotFoundError\u001b[0m: [Errno 2] No such file or directory: 'data.csv'"
          ]
        }
      ],
      "source": [
        "import pandas as pd\n",
        "\n",
        "df = pd.read_csv('data.csv')\n",
        "\n",
        "print(df)"
      ]
    },
    {
      "cell_type": "code",
      "execution_count": null,
      "metadata": {
        "id": "_w5ykfZZuNeS"
      },
      "outputs": [],
      "source": [
        "#check the number of maximum returned rows:\n",
        "\n",
        "import pandas as pd\n",
        "\n",
        "print(pd.options.display.max_rows)"
      ]
    },
    {
      "cell_type": "markdown",
      "metadata": {
        "id": "NeVaVCmGummy"
      },
      "source": [
        "# Pandas - Analyzing DataFrames\n",
        "# Viewing the Data\n",
        "One of the most used method for getting a quick overview of the DataFrame, is the head() method.\n",
        "\n",
        "The head() method returns the headers and a specified number of rows, starting from the top."
      ]
    },
    {
      "cell_type": "code",
      "execution_count": null,
      "metadata": {
        "id": "8ttE8104ux45"
      },
      "outputs": [],
      "source": [
        "#Get a quick overview by printing the first 10 rows of the DataFrame:\n",
        "\n",
        "import pandas as pd\n",
        "\n",
        "df = pd.read_csv('data.csv')\n",
        "\n",
        "print(df.head(10))"
      ]
    },
    {
      "cell_type": "markdown",
      "metadata": {
        "id": "BGuaOZ42u5o5"
      },
      "source": [
        "There is also a tail() method for viewing the last rows of the DataFrame.\n",
        "\n",
        "The tail() method returns the headers and a specified number of rows, starting from the bottom."
      ]
    },
    {
      "cell_type": "markdown",
      "metadata": {
        "id": "v-lO9YLhvA2U"
      },
      "source": [
        "# **Info About the Data**\n",
        "The DataFrames object has a method called info(), that gives you more information about the data set.\n",
        "\n"
      ]
    },
    {
      "cell_type": "code",
      "execution_count": null,
      "metadata": {
        "id": "ReRXGS5ovGJv"
      },
      "outputs": [],
      "source": [
        "\n",
        "#Print information about the data:\n",
        "\n",
        "print(df.info())"
      ]
    },
    {
      "cell_type": "markdown",
      "metadata": {
        "id": "rUEVH3bivdJK"
      },
      "source": [
        "# Data Cleaning\n",
        "\n",
        "Data cleaning means fixing bad data in your data set.\n",
        "\n",
        "Bad data could be:\n",
        "\n",
        "Empty cells\n",
        "Data in wrong format\n",
        "Wrong data\n",
        "Duplicates\n",
        "In this tutorial you will learn how to deal with all of them.\n",
        "\n"
      ]
    }
  ]
}